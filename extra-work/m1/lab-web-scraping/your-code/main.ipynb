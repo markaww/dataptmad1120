{
 "cells": [
  {
   "cell_type": "markdown",
   "metadata": {},
   "source": [
    "# Web Scraping Lab\n",
    "\n",
    "You will find in this notebook some scrapy exercises to practise your scraping skills.\n",
    "\n",
    "**Tips:**\n",
    "\n",
    "- Check the response status code for each request to ensure you have obtained the intended content.\n",
    "- Print the response text in each request to understand the kind of info you are getting and its format.\n",
    "- Check for patterns in the response text to extract the data/info requested in each question.\n",
    "- Visit the urls below and take a look at their source code through Chrome DevTools. You'll need to identify the html tags, special class names, etc used in the html content you are expected to extract.\n",
    "\n",
    "**Resources**:\n",
    "- [Requests library](http://docs.python-requests.org/en/master/#the-user-guide)\n",
    "- [Beautiful Soup Doc](https://www.crummy.com/software/BeautifulSoup/bs4/doc/)\n",
    "- [Urllib](https://docs.python.org/3/library/urllib.html#module-urllib)\n",
    "- [re lib](https://docs.python.org/3/library/re.html)\n",
    "- [lxml lib](https://lxml.de/)\n",
    "- [Scrapy](https://scrapy.org/)\n",
    "- [List of HTTP status codes](https://en.wikipedia.org/wiki/List_of_HTTP_status_codes)\n",
    "- [HTML basics](http://www.simplehtmlguide.com/cheatsheet.php)\n",
    "- [CSS basics](https://www.cssbasics.com/#page_start)"
   ]
  },
  {
   "cell_type": "markdown",
   "metadata": {},
   "source": [
    "#### Below are the libraries and modules you may need. `requests`,  `BeautifulSoup` and `pandas` are already imported for you. If you prefer to use additional libraries feel free to do it."
   ]
  },
  {
   "cell_type": "code",
   "execution_count": 1,
   "metadata": {},
   "outputs": [],
   "source": [
    "import requests\n",
    "from bs4 import BeautifulSoup\n",
    "import pandas as pd\n",
    "import re"
   ]
  },
  {
   "cell_type": "markdown",
   "metadata": {},
   "source": [
    "#### Download, parse (using BeautifulSoup), and print the content from the Trending Developers page from GitHub:"
   ]
  },
  {
   "cell_type": "code",
   "execution_count": 2,
   "metadata": {},
   "outputs": [],
   "source": [
    "# This is the url you will scrape in this exercise\n",
    "\n",
    "url = 'https://github.com/trending/developers'\n",
    "html = requests.get(url).content\n",
    "soup = BeautifulSoup(html, 'html.parser')"
   ]
  },
  {
   "cell_type": "markdown",
   "metadata": {},
   "source": [
    "#### Display the names of the trending developers retrieved in the previous step.\n",
    "\n",
    "Your output should be a Python list of developer names. Each name should not contain any html tag.\n",
    "\n",
    "**Instructions:**\n",
    "\n",
    "1. Find out the html tag and class names used for the developer names. You can achieve this using Chrome DevTools.\n",
    "\n",
    "1. Use BeautifulSoup to extract all the html elements that contain the developer names.\n",
    "\n",
    "1. Use string manipulation techniques to replace whitespaces and linebreaks (i.e. `\\n`) in the *text* of each html element. Use a list to store the clean names.\n",
    "\n",
    "1. Print the list of names.\n",
    "\n",
    "Your output should look like below:\n",
    "\n",
    "```\n",
    "['trimstray (@trimstray)',\n",
    " 'joewalnes (JoeWalnes)',\n",
    " 'charlax (Charles-AxelDein)',\n",
    " 'ForrestKnight (ForrestKnight)',\n",
    " 'revery-ui (revery-ui)',\n",
    " 'alibaba (Alibaba)',\n",
    " 'Microsoft (Microsoft)',\n",
    " 'github (GitHub)',\n",
    " 'facebook (Facebook)',\n",
    " 'boazsegev (Bo)',\n",
    " 'google (Google)',\n",
    " 'cloudfetch',\n",
    " 'sindresorhus (SindreSorhus)',\n",
    " 'tensorflow',\n",
    " 'apache (TheApacheSoftwareFoundation)',\n",
    " 'DevonCrawford (DevonCrawford)',\n",
    " 'ARMmbed (ArmMbed)',\n",
    " 'vuejs (vuejs)',\n",
    " 'fastai (fast.ai)',\n",
    " 'QiShaoXuan (Qi)',\n",
    " 'joelparkerhenderson (JoelParkerHenderson)',\n",
    " 'torvalds (LinusTorvalds)',\n",
    " 'CyC2018',\n",
    " 'komeiji-satori (神楽坂覚々)',\n",
    " 'script-8']\n",
    " ```"
   ]
  },
  {
   "cell_type": "code",
   "execution_count": 79,
   "metadata": {},
   "outputs": [
    {
     "data": {
      "text/plain": [
       "['hiroki (privatenumber)',\n",
       " 'MiekGieben (miekg)',\n",
       " 'AnthonySottile (asottile)',\n",
       " 'GuillaumeGomez (GuillaumeGomez)',\n",
       " 'MatthiasUrhahn (d4rken)',\n",
       " 'JulienLeCoupanec (LeCoupa)',\n",
       " 'JoeBlock (unixorn)',\n",
       " 'snipe (snipe)',\n",
       " 'MichaelTeeuw (MichMich)',\n",
       " 'DriesVints (driesvints)',\n",
       " 'FrostMing (frostming)',\n",
       " 'SamuelColvin (samuelcolvin)',\n",
       " 'DanielMendler (minad)',\n",
       " 'TomasVotruba (TomasVotruba)',\n",
       " 'HanXiao (hanxiao)',\n",
       " 'ThomasLovén (thomasloven)',\n",
       " 'ThibaultDuplessis (ornicar)',\n",
       " 'BlakeBlackshear (blakeblackshear)',\n",
       " 'MichaelLynch (mtlynch)',\n",
       " 'StevenLoria (sloria)',\n",
       " 'ArielMashraki (a8m)',\n",
       " 'hustcc (hustcc)',\n",
       " 'FredK.Schott (FredKSchott)',\n",
       " 'FonsvanderPlas (fonsp)',\n",
       " 'FranckNijhof (frenck)']"
      ]
     },
     "execution_count": 79,
     "metadata": {},
     "output_type": "execute_result"
    }
   ],
   "source": [
    "# Get the raw string with name and user into a list\n",
    "\n",
    "trending_raw = soup.find_all('h1', {'class': 'h3 lh-condensed'})\n",
    "pattern = '\"\\/[A-Z\\a-záéíóú]+'\n",
    "\n",
    "users = [re.findall(pattern, str(i)) for i in trending_raw]\n",
    "flat_list = [item for sublist in users for item in sublist]\n",
    "\n",
    "# Make a list of names and another of users, and clean them up\n",
    "\n",
    "full_names = [((i[-29:]).replace('\\n</a> </h1>','').replace(' ','').replace('\\n','')) for i in flat_list]\n",
    "user_names = [((i[:20]).replace('\"/','(').replace('\">\\n',')').replace(' ','')) for i in flat_list]\n",
    "\n",
    "# Join the resulting lists\n",
    "\n",
    "new_list = [(f'{full_names[i]} {user_names[i]}') for i in list(range(len(full_names)))]\n",
    "\n",
    "new_list"
   ]
  },
  {
   "cell_type": "markdown",
   "metadata": {},
   "source": [
    "#### Display the trending Python repositories in GitHub.\n",
    "\n",
    "The steps to solve this problem is similar to the previous one except that you need to find out the repository names instead of developer names."
   ]
  },
  {
   "cell_type": "code",
   "execution_count": 47,
   "metadata": {},
   "outputs": [],
   "source": [
    "# This is the url you will scrape in this exercise\n",
    "url2 = 'https://github.com/trending/python?since=daily'\n",
    "html2 = requests.get(url2).content\n",
    "soup2 = BeautifulSoup(html2, 'html.parser')"
   ]
  },
  {
   "cell_type": "code",
   "execution_count": 48,
   "metadata": {},
   "outputs": [
    {
     "data": {
      "text/plain": [
       "['explosion - spaCy\"',\n",
       " 'doino-gretchenliev - revolut-stocks\"',\n",
       " 'TheAlgorithms - Python\"',\n",
       " 'MathInspector - MathInspector\"',\n",
       " 'swisskyrepo - PayloadsAllTheThings\"',\n",
       " 'dupontgu - retro-ipod-spotify-client\"',\n",
       " 'alibaba - taobao-iphone-device\"',\n",
       " '3b1b - manim\"',\n",
       " 'minimaxir - big-list-of-naughty-strings\"',\n",
       " 'sdushantha - wifi-password\"',\n",
       " 'tensortrade-org - tensortrade\"',\n",
       " 'davidbombal - red-python-scripts\"',\n",
       " 'HashPals - Name-That-Hash\"',\n",
       " 'tiangolo - fastapi\"',\n",
       " 'PeterL1n - BackgroundMattingV2\"',\n",
       " 'yanshengjia - ml-road\"',\n",
       " 'optas - artemis\"',\n",
       " 'huggingface - transformers\"',\n",
       " 'ultrafunkamsterdam - undetected-chromedriver\"',\n",
       " 'y1ndan - genshin-impact-helper\"',\n",
       " 'ZHKKKe - MODNet\"',\n",
       " 'numpy - numpy\"',\n",
       " 'owid - covid-19-data\"',\n",
       " 'aws - aws-cli\"',\n",
       " 'vt-vl-lab - FGVC\"']"
      ]
     },
     "execution_count": 48,
     "metadata": {},
     "output_type": "execute_result"
    }
   ],
   "source": [
    "# your code here\n",
    "repos_raw = soup2.find_all('h1', {'class': 'h3 lh-condensed'})\n",
    "pattern = \"href=([^;]*)<sv\"\n",
    "repos = [re.findall(pattern, str(i)) for i in repos_raw]\n",
    "flat_list = [item for sublist in repos for item in sublist]\n",
    "\n",
    "repos_final = [(i[2:-2]).replace('/',' - ') for i in flat_list]\n",
    "\n",
    "repos_final"
   ]
  },
  {
   "cell_type": "markdown",
   "metadata": {},
   "source": [
    "#### Display all the image links from Walt Disney wikipedia page."
   ]
  },
  {
   "cell_type": "code",
   "execution_count": 49,
   "metadata": {},
   "outputs": [],
   "source": [
    "# This is the url you will scrape in this exercise\n",
    "url3 = 'https://en.wikipedia.org/wiki/Walt_Disney'\n",
    "html3 = requests.get(url3).content\n",
    "soup3 = BeautifulSoup(html3, 'html.parser')\n"
   ]
  },
  {
   "cell_type": "code",
   "execution_count": 50,
   "metadata": {},
   "outputs": [
    {
     "data": {
      "text/plain": [
       "['/wiki/File:Walt_Disney_1946.JPG',\n",
       " '/wiki/File:Walt_Disney_1942_signature.svg',\n",
       " '/wiki/File:Walt_Disney_envelope_ca._1921.jpg',\n",
       " '/wiki/File:Trolley_Troubles_poster.jpg',\n",
       " '/wiki/File:Walt_Disney_and_his_cartoon_creation_%22Mickey_Mouse%22_-_National_Board_of_Review_Magazine.jpg',\n",
       " '/wiki/File:Steamboat-willie.jpg',\n",
       " '/wiki/File:Walt_Disney_1935.jpg',\n",
       " '/wiki/File:Walt_Disney_Snow_white_1937_trailer_screenshot_(13).jpg',\n",
       " '/wiki/File:Disney_drawing_goofy.jpg',\n",
       " '/wiki/File:DisneySchiphol1951.jpg',\n",
       " '/wiki/File:WaltDisneyplansDisneylandDec1954.jpg',\n",
       " '/wiki/File:Walt_disney_portrait_right.jpg',\n",
       " '/wiki/File:Walt_Disney_Grave.JPG',\n",
       " '/wiki/File:Roy_O._Disney_with_Company_at_Press_Conference.jpg',\n",
       " '/wiki/File:Disney_Display_Case.JPG',\n",
       " '/wiki/File:Disney1968.jpg',\n",
       " '/wiki/File:Animation_disc.svg',\n",
       " '/wiki/File:P_vip.svg',\n",
       " '/wiki/File:Magic_Kingdom_castle.jpg',\n",
       " '/wiki/File:Video-x-generic.svg',\n",
       " '/wiki/File:Flag_of_Los_Angeles_County,_California.svg',\n",
       " '/wiki/File:Blank_television_set.svg',\n",
       " '/wiki/File:Flag_of_the_United_States.svg']"
      ]
     },
     "execution_count": 50,
     "metadata": {},
     "output_type": "execute_result"
    }
   ],
   "source": [
    "# your code here\n",
    "images_raw = soup3.find_all('a', {'class': 'image'})       \n",
    "links = []\n",
    "for t in range(len(images_raw)):\n",
    "    to_add = images_raw[t].attrs['href']\n",
    "    links.append(to_add)\n",
    "links    "
   ]
  },
  {
   "cell_type": "markdown",
   "metadata": {},
   "source": [
    "#### Retrieve an arbitary Wikipedia page of \"Python\" and create a list of links on that page."
   ]
  },
  {
   "cell_type": "code",
   "execution_count": 51,
   "metadata": {},
   "outputs": [],
   "source": [
    "# This is the url you will scrape in this exercise\n",
    "url4 ='https://en.wikipedia.org/wiki/Python' \n",
    "html4 = requests.get(url4).content\n",
    "soup4 = BeautifulSoup(html4, 'html.parser')"
   ]
  },
  {
   "cell_type": "code",
   "execution_count": 54,
   "metadata": {},
   "outputs": [
    {
     "data": {
      "text/plain": [
       "['#mw-head',\n",
       " '#searchInput',\n",
       " 'https://en.wiktionary.org/wiki/Python',\n",
       " 'https://en.wiktionary.org/wiki/python',\n",
       " '/wiki/Pythons',\n",
       " '/wiki/Python_(genus)',\n",
       " '#Computing',\n",
       " '#People',\n",
       " '#Roller_coasters',\n",
       " '#Vehicles',\n",
       " '#Weaponry',\n",
       " '#Other_uses',\n",
       " '#See_also',\n",
       " '/w/index.php?title=Python&action=edit&section=1',\n",
       " '/wiki/Python_(programming_language)',\n",
       " '/wiki/CMU_Common_Lisp',\n",
       " '/wiki/PERQ#PERQ_3',\n",
       " '/w/index.php?title=Python&action=edit&section=2',\n",
       " '/wiki/Python_of_Aenus',\n",
       " '/wiki/Python_(painter)']"
      ]
     },
     "execution_count": 54,
     "metadata": {},
     "output_type": "execute_result"
    }
   ],
   "source": [
    "# your code here\n",
    "python_raw = soup4.find_all('a', href=True)\n",
    "pattern = 'href=\"\\/([^\"]*)\"'\n",
    "\n",
    "links = [python_raw[i].attrs['href'] for i in range(len(python_raw))]\n",
    "links[0:20]"
   ]
  },
  {
   "cell_type": "markdown",
   "metadata": {},
   "source": [
    "#### Find the number of titles that have changed in the United States Code since its last release point."
   ]
  },
  {
   "cell_type": "code",
   "execution_count": 55,
   "metadata": {},
   "outputs": [],
   "source": [
    "# This is the url you will scrape in this exercise\n",
    "url5 = 'http://uscode.house.gov/download/download.shtml'\n",
    "html5 = requests.get(url5).content\n",
    "soup5 = BeautifulSoup(html5, 'html.parser')"
   ]
  },
  {
   "cell_type": "code",
   "execution_count": 56,
   "metadata": {},
   "outputs": [
    {
     "data": {
      "text/plain": [
       "['Title 6 - Domestic Security',\n",
       " 'Title 10 - Armed Forces',\n",
       " 'Title 15 - Commerce and Trade',\n",
       " 'Title 20 - Education',\n",
       " 'Title 28 - Judiciary and Judicial Procedure',\n",
       " 'Title 31 - Money and Finance',\n",
       " 'Title 33 - Navigation and Navigable Waters',\n",
       " 'Title 36 - Patriotic and National Observances, Ceremonies, and Organizations',\n",
       " 'Title 37 - Pay and Allowances of the Uniformed Services',\n",
       " \"Title 38 - Veterans' Benefits\",\n",
       " 'Title 40 - Public Buildings, Property, and Works',\n",
       " 'Title 46 - Shipping']"
      ]
     },
     "execution_count": 56,
     "metadata": {},
     "output_type": "execute_result"
    }
   ],
   "source": [
    "# your code here\n",
    "changed_raw = soup5.find_all('div', {'class': 'usctitlechanged'}, {'font-weight': 'bold'})\n",
    "pattern = '(T[^<]*)'\n",
    "\n",
    "changed = [re.findall(pattern, str([i])) for i in changed_raw]\n",
    "flat_list = [item.rstrip() for sublist in changed for item in sublist]\n",
    "\n",
    "flat_list"
   ]
  },
  {
   "cell_type": "markdown",
   "metadata": {},
   "source": [
    "#### Find a Python list with the top ten FBI's Most Wanted names."
   ]
  },
  {
   "cell_type": "code",
   "execution_count": 43,
   "metadata": {},
   "outputs": [],
   "source": [
    "# This is the url you will scrape in this exercise\n",
    "url6 = 'https://www.fbi.gov/wanted/topten'\n",
    "html6 = requests.get(url6).content\n",
    "soup6 = BeautifulSoup(html6, 'html.parser')"
   ]
  },
  {
   "cell_type": "code",
   "execution_count": 44,
   "metadata": {},
   "outputs": [
    {
     "data": {
      "text/plain": [
       "['alejandro-castillo\">ALEJANDRO ROSALES CASTILLO',\n",
       " 'arnoldo-jimenez\">ARNOLDO JIMENEZ',\n",
       " 'jason-derek-brown\">JASON DEREK BROWN',\n",
       " 'alexis-flores\">ALEXIS FLORES',\n",
       " 'jose-rodolfo-villarreal-hernandez\">JOSE RODOLFO VILLARREAL-HERNANDEZ',\n",
       " 'eugene-palmer\">EUGENE PALMER',\n",
       " 'rafael-caro-quintero\">RAFAEL CARO-QUINTERO',\n",
       " 'robert-william-fisher\">ROBERT WILLIAM FISHER',\n",
       " 'bhadreshkumar-chetanbhai-patel\">BHADRESHKUMAR CHETANBHAI PATEL',\n",
       " 'yaser-abdel-said\">YASER ABDEL SAID']"
      ]
     },
     "execution_count": 44,
     "metadata": {},
     "output_type": "execute_result"
    }
   ],
   "source": [
    "# your code here\n",
    "wanted_raw = soup6.find_all(('h3', {'class': 'title'}))\n",
    "\n",
    "wanted = [(str(i)[62:-10]) for i in wanted_raw]\n",
    "\n",
    "wanted"
   ]
  },
  {
   "cell_type": "markdown",
   "metadata": {},
   "source": [
    "####  Display the 20 latest earthquakes info (date, time, latitude, longitude and region name) by the EMSC as a pandas dataframe."
   ]
  },
  {
   "cell_type": "code",
   "execution_count": 45,
   "metadata": {},
   "outputs": [],
   "source": [
    "# This is the url you will scrape in this exercise\n",
    "url7 = 'https://www.emsc-csem.org/Earthquake/'\n",
    "html7 = requests.get(url7).content\n",
    "soup7 = BeautifulSoup(html7, 'html.parser')"
   ]
  },
  {
   "cell_type": "code",
   "execution_count": 65,
   "metadata": {},
   "outputs": [
    {
     "data": {
      "text/plain": [
       "[<tr><td class=\"ban1\" onclick=\"window.location.href='https://www.emsc-csem.org';\" onmouseover=\"this.style.cursor='pointer';\">\n",
       " <img alt=\"logo - home\" src=\"https://static2.emsc.eu/Css/img/logo.png\" style=\"width:150px;height:81px;\"/></td>\n",
       " <td class=\"ban2 ban022\" onclick=\"window.location.href='https://www.emsc-csem.org';\" onmouseover=\"this.style.cursor='pointer';\">\n",
       " <div style=\"border:0; position:relative; float:right; width:110px; height:80px; margin-top:-5px; margin-right:25px; \">\n",
       " <div id=\"androidstore\" style=\"border:0; position:relative; float:left; width:110px; height:35px;\"></div>\n",
       " <div id=\"iosstore\" style=\"border:0; position:relative; float:left; width:110px; height:35px; margin-top:8px;\"></div>\n",
       " </div>\n",
       " <script type=\"text/javascript\">set_server_date(2021,2,3,7,46,1)</script>\n",
       " <div id=\"ejs_server_heure\">Current time: 2021-02-03 07:46:01 UTC</div>\n",
       " </td>\n",
       " <td align=\"right\" class=\"ban3 ban022\"><div class=\"login_box\" id=\"login_box\"><form action=\"https://www.emsc-csem.org/Member/\" enctype=\"multipart/form-data\" method=\"post\">\n",
       " <table cellpadding=\"0\" cellspacing=\"0\" style=\"width:100%;height:100%;border:0;\"><tr><td colspan=\"2\" style=\"text-align: center; font-size: 11px; font-weight: bold; color: #fff;\">\n",
       " <span class=\"spriteorig sp_lock vbottom\"></span> Member access</td></tr><tr><td colspan=\"2\" style=\"height: 2px;text-align:center;\">\n",
       " <img alt=\"\" src=\"data:image/png;base64,iVBORw0KGgoAAAANSUhEUgAAAAEAAAABCAQAAAC1HAwCAAAABGdBTUEAALGPC/xhBQAAAAtJREFUCNdjYGAAAAADAAEg1ZTHAAAAAElFTkSuQmCC\" style=\"display: block;width:1px;border:0;height:2px;\"/></td></tr>\n",
       " <tr><td style=\"font-size: 11px; font-weight: bold; text-align: left; color: #000;\">Name </td>\n",
       " <td style=\"text-align:left;\"><input maxlength=\"10\" name=\"login\" size=\"8\" style=\"height: 11px; width: 80px; font-size: 11px;\" type=\"text\"/></td></tr>\n",
       " <tr><td colspan=\"2\" style=\"height: 2px;text-align:center;\"><img alt=\"\" src=\"data:image/png;base64,iVBORw0KGgoAAAANSUhEUgAAAAEAAAABCAQAAAC1HAwCAAAABGdBTUEAALGPC/xhBQAAAAtJREFUCNdjYGAAAAADAAEg1ZTHAAAAAElFTkSuQmCC\" style=\"display: block;width:1px; border:0;height:2px;\"/></td></tr>\n",
       " <tr><td style=\"font-size: 11px; font-weight: bold; text-align: left; color: #000;\">Pwd</td>\n",
       " <td style=\"text-align:left;\"><input maxlength=\"32\" name=\"pwd\" size=\"8\" style=\"height: 11px; width: 80px; font-size: 11px;\" type=\"password\"/></td></tr>\n",
       " <tr><td colspan=\"2\" style=\"height: 2px;text-align:center;\"><img alt=\"\" src=\"data:image/png;base64,iVBORw0KGgoAAAANSUhEUgAAAAEAAAABCAQAAAC1HAwCAAAABGdBTUEAALGPC/xhBQAAAAtJREFUCNdjYGAAAAADAAEg1ZTHAAAAAElFTkSuQmCC\" style=\"display: block;width:1px;border:0;height:2px;\"/></td>\n",
       " </tr><tr><td> </td><td style=\"text-align:left;\"><input style=\"height: 20px; font-size: 11px;\" type=\"submit\" value=\"Sign in\"/></td></tr></table></form></div></td></tr>,\n",
       " <tr><td colspan=\"2\" style=\"text-align: center; font-size: 11px; font-weight: bold; color: #fff;\">\n",
       " <span class=\"spriteorig sp_lock vbottom\"></span> Member access</td></tr>,\n",
       " <tr><td colspan=\"2\" style=\"height: 2px;text-align:center;\">\n",
       " <img alt=\"\" src=\"data:image/png;base64,iVBORw0KGgoAAAANSUhEUgAAAAEAAAABCAQAAAC1HAwCAAAABGdBTUEAALGPC/xhBQAAAAtJREFUCNdjYGAAAAADAAEg1ZTHAAAAAElFTkSuQmCC\" style=\"display: block;width:1px;border:0;height:2px;\"/></td></tr>,\n",
       " <tr><td style=\"font-size: 11px; font-weight: bold; text-align: left; color: #000;\">Name </td>\n",
       " <td style=\"text-align:left;\"><input maxlength=\"10\" name=\"login\" size=\"8\" style=\"height: 11px; width: 80px; font-size: 11px;\" type=\"text\"/></td></tr>,\n",
       " <tr><td colspan=\"2\" style=\"height: 2px;text-align:center;\"><img alt=\"\" src=\"data:image/png;base64,iVBORw0KGgoAAAANSUhEUgAAAAEAAAABCAQAAAC1HAwCAAAABGdBTUEAALGPC/xhBQAAAAtJREFUCNdjYGAAAAADAAEg1ZTHAAAAAElFTkSuQmCC\" style=\"display: block;width:1px; border:0;height:2px;\"/></td></tr>,\n",
       " <tr><td style=\"font-size: 11px; font-weight: bold; text-align: left; color: #000;\">Pwd</td>\n",
       " <td style=\"text-align:left;\"><input maxlength=\"32\" name=\"pwd\" size=\"8\" style=\"height: 11px; width: 80px; font-size: 11px;\" type=\"password\"/></td></tr>,\n",
       " <tr><td colspan=\"2\" style=\"height: 2px;text-align:center;\"><img alt=\"\" src=\"data:image/png;base64,iVBORw0KGgoAAAANSUhEUgAAAAEAAAABCAQAAAC1HAwCAAAABGdBTUEAALGPC/xhBQAAAAtJREFUCNdjYGAAAAADAAEg1ZTHAAAAAElFTkSuQmCC\" style=\"display: block;width:1px;border:0;height:2px;\"/></td>\n",
       " </tr>,\n",
       " <tr><td> </td><td style=\"text-align:left;\"><input style=\"height: 20px; font-size: 11px;\" type=\"submit\" value=\"Sign in\"/></td></tr>,\n",
       " <tr class=\"tb_infos\"><td><span class=\"spriteorig sp_info\"></span> - Sorting by column is performed on the data of the current page.</td><td style=\"text-align:right;\"><a href=\"/glossary.php\">Glossary</a></td></tr>,\n",
       " <tr>\n",
       " <td colspan=\"13\" style=\"background: white;height: 1px\"></td>\n",
       " </tr>,\n",
       " <tr id=\"haut_tableau\"><th class=\"th2 th3\" colspan=\"3\" style=\"width:90px;display:table-csell;\"><div onmouseout=\"info_b('notshow','','');\" onmouseover=\"info_b('show','Represents the results of information provided by users (Felt earthquake, pictures, testimonies ,...)&lt;br&gt;See an intensity map for more details on the macroseismic intensity scale.','Citizen response');\">Citizen<br/>Response</div><br/><table cellpadding=\"0\" cellspacing=\"0\" style=\"width:100%;margin:0;text-align:center;\"><tr><td><div onclick=\"change_tri('im_report');\" onmouseout=\"change_image(this,'out','im_report');\" onmouseover=\"change_image(this,'over','im_report');\"><span class=\"spriteorig sp_ico_list\" onmouseout=\"info_b2('notshow','');\" onmouseover=\"info_b2('show','Sorted by number of &lt;b&gt;Comments&lt;/b&gt;');\"></span><span class=\"spriteorig sp_s_asc\" id=\"im_report\" style=\"display:none;\"></span></div></td><td><div onclick=\"change_tri('im_pics');\" onmouseout=\"change_image(this,'out','im_pics');\" onmouseover=\"change_image(this,'over','im_pics');\"><span class=\"spriteorig sp_digikam\" onmouseout=\"info_b2('notshow','');\" onmouseover=\"info_b2('show','Sorted by number of &lt;b&gt;Pictures&lt;/b&gt;');\"></span><span class=\"spriteorig sp_s_asc\" id=\"im_pics\" style=\"display:none;\"></span></div></td><td><div onclick=\"change_tri('im_intens');\" onmouseout=\"change_image(this,'out','im_intens');\" onmouseover=\"change_image(this,'over','im_intens');\"><span class=\"spriteorig sp_IntensityMap\" onmouseout=\"info_b2('notshow','');\" onmouseover=\"info_b2('show','Sorted by &lt;b&gt;Macroseismic Intensity&lt;/b&gt;');\"></span><span class=\"spriteorig sp_s_asc\" id=\"im_intens\" style=\"display:none;\"></span></div></td></tr></table></th><th class=\"th2\" onclick=\"change_tri('im_time');\" onmouseout=\"change_image(this,'out','im_time');\" onmouseover=\"change_image(this,'over','im_time');\">Date &amp; Time <span class=\"spriteorig sp_s_desc\" id=\"im_select\"></span><div style=\"font-weight:normal;\">UTC</div></th><th class=\"th2\" colspan=\"2\" onclick=\"change_tri('im_lat');\" onmouseout=\"change_image(this,'out','im_lat');\" onmouseover=\"change_image(this,'over','im_lat');\">Latitude <span class=\"spriteorig sp_s_asc\" id=\"im_lat\" style=\"display:none;\"></span><div style=\"font-weight:normal;\">degrees</div></th><th class=\"th2\" colspan=\"2\" onclick=\"change_tri('im_lon');\" onmouseout=\"change_image(this,'out','im_lon');\" onmouseover=\"change_image(this,'over','im_lon');\">Longitude <span class=\"spriteorig sp_s_asc\" id=\"im_lon\" style=\"display:none;\"></span><div style=\"font-weight:normal;\">degrees</div></th><th class=\"th2\" onclick=\"change_tri('im_depth');\" onmouseout=\"change_image(this,'out','im_depth');\" onmouseover=\"change_image(this,'over','im_depth');\">Depth <span class=\"spriteorig sp_s_asc\" id=\"im_depth\" style=\"display:none;\"></span><div style=\"font-weight: normal\">km</div></th><th class=\"th2\" colspan=\"1\" id=\"thmag\"><div onclick=\"change_tri('im_mag');\" onmouseout=\"change_image(this,'out','im_mag');\" onmouseover=\"change_image(this,'over','im_mag');\" style=\"float:left;\">Mag <span class=\"spriteorig sp_s_asc\" id=\"im_mag\" style=\"display:none;\"></span></div><div id=\"magplus2\" style=\"float:left;\"> <a href=\"javascript:hide_magni();\" id=\"magplus\" style=\"color:white;\">[+]</a></div></th><th class=\"th2\" id=\"ex_th2\"><div onclick=\"change_tri('im_reg');\" onmouseout=\"change_image(this,'out','im_reg');\" onmouseover=\"change_image(this,'over','im_reg');\" style=\"float:left;\">Region name <span class=\"spriteorig sp_s_asc\" id=\"im_reg\" style=\"display:none;\"></span></div><div id=\"upda\" onmouseout=\"info_b2('notshow','');\" onmouseover=\"info_b2('show','Show last update');\"> <a href=\"javascript:hide_upd();\" style=\"color:white;\">[+]</a></div></th><th class=\"th2 updatetimeno\" id=\"upd\"><div id=\"labupd\" onclick=\"change_tri('im_upd');\" onmouseout=\"change_image(this,'out','im_upd');\" onmouseover=\"change_image(this,'over','im_upd');\" style=\"float:left;text-align:right;\">Last update <span class=\"spriteorig sp_s_asc\" id=\"im_upd\" style=\"display:none;\"></span></div><div id=\"hideupda\" onmouseout=\"info_b2('notshow','');\" onmouseover=\"info_b2('show','Hide last update');\" style=\"float:left;\"><a href=\"javascript:hide_upd();\" style=\"color:white;\">[-]</a></div></th></tr>,\n",
       " <tr><td><div onclick=\"change_tri('im_report');\" onmouseout=\"change_image(this,'out','im_report');\" onmouseover=\"change_image(this,'over','im_report');\"><span class=\"spriteorig sp_ico_list\" onmouseout=\"info_b2('notshow','');\" onmouseover=\"info_b2('show','Sorted by number of &lt;b&gt;Comments&lt;/b&gt;');\"></span><span class=\"spriteorig sp_s_asc\" id=\"im_report\" style=\"display:none;\"></span></div></td><td><div onclick=\"change_tri('im_pics');\" onmouseout=\"change_image(this,'out','im_pics');\" onmouseover=\"change_image(this,'over','im_pics');\"><span class=\"spriteorig sp_digikam\" onmouseout=\"info_b2('notshow','');\" onmouseover=\"info_b2('show','Sorted by number of &lt;b&gt;Pictures&lt;/b&gt;');\"></span><span class=\"spriteorig sp_s_asc\" id=\"im_pics\" style=\"display:none;\"></span></div></td><td><div onclick=\"change_tri('im_intens');\" onmouseout=\"change_image(this,'out','im_intens');\" onmouseover=\"change_image(this,'over','im_intens');\"><span class=\"spriteorig sp_IntensityMap\" onmouseout=\"info_b2('notshow','');\" onmouseover=\"info_b2('show','Sorted by &lt;b&gt;Macroseismic Intensity&lt;/b&gt;');\"></span><span class=\"spriteorig sp_s_asc\" id=\"im_intens\" style=\"display:none;\"></span></div></td></tr>,\n",
       " <tr><td colspan=\"13\" style=\"background: white;height: 1px\"></td></tr>,\n",
       " <tr class=\"npages\" id=\"my_pagelist_0\"><td colspan=\"13\"><a class=\"sublink sublinka\" href=\"javascript:void()\" rel=\"nofollow\">1</a><a class=\"sublink\" href=\"/Earthquake/?view=2\">2</a><a class=\"sublink\" href=\"/Earthquake/?view=3\">3</a><a class=\"sublink\" href=\"/Earthquake/?view=4\">4</a><a class=\"sublink\" href=\"/Earthquake/?view=5\">5</a><a class=\"sublink\" href=\"/Earthquake/?view=6\">6</a><a class=\"sublink\" href=\"/Earthquake/?view=7\">7</a><a class=\"sublink\" href=\"/Earthquake/?view=8\">8</a><a class=\"sublink\" href=\"/Earthquake/?view=9\">9</a><a class=\"sublink\" href=\"/Earthquake/?view=10\">10</a><a alt=\"Next page\" class=\"sublink\" href=\"/Earthquake/?view=2\">›</a><a alt=\"Next 10 pages\" class=\"sublink\" href=\"/Earthquake/?view=11\">»</a></td></tr>,\n",
       " <tr class=\"ligne1 normal\" id=\"945294\" onclick=\"go_details(event,945294);\"><td class=\"tabev0\"></td><td class=\"tabev0\"></td><td class=\"tabev0\"></td><td class=\"tabev6\"><b><i style=\"display:none;\">earthquake</i><a href=\"/Earthquake/earthquake.php?id=945294\">2021-02-03   07:20:09.0</a></b><i class=\"ago\" id=\"ago0\">25min ago</i></td><td class=\"tabev1\">0.17 </td><td class=\"tabev2\">N  </td><td class=\"tabev1\">119.61 </td><td class=\"tabev2\">E  </td><td class=\"tabev3\">10</td><td class=\"tabev5\" id=\"magtyp0\"> M</td><td class=\"tabev2\">3.7</td><td class=\"tb_region\" id=\"reg0\"> MINAHASA, SULAWESI, INDONESIA</td><td class=\"comment updatetimeno\" id=\"upd0\" style=\"text-align:right;\">2021-02-03 07:25</td></tr>,\n",
       " <tr class=\"ligne2 normal\" id=\"945292\" onclick=\"go_details(event,945292);\"><td class=\"tabev0\"></td><td class=\"tabev0\"></td><td class=\"tabev0\"></td><td class=\"tabev6\"><b><i style=\"display:none;\">earthquake</i><a href=\"/Earthquake/earthquake.php?id=945292\">2021-02-03   07:07:55.3</a></b><i class=\"ago\" id=\"ago1\">38min ago</i></td><td class=\"tabev1\">38.42 </td><td class=\"tabev2\">N  </td><td class=\"tabev1\">38.98 </td><td class=\"tabev2\">E  </td><td class=\"tabev3\">8</td><td class=\"tabev5\" id=\"magtyp1\">ML</td><td class=\"tabev2\">3.0</td><td class=\"tb_region\" id=\"reg1\"> EASTERN TURKEY</td><td class=\"comment updatetimeno\" id=\"upd1\" style=\"text-align:right;\">2021-02-03 07:41</td></tr>,\n",
       " <tr class=\"ligne1 normal\" id=\"945291\" onclick=\"go_details(event,945291);\"><td class=\"tabev0\"></td><td class=\"tabev0\"></td><td class=\"tabev0\"></td><td class=\"tabev6\"><b><i style=\"display:none;\">earthquake</i><a href=\"/Earthquake/earthquake.php?id=945291\">2021-02-03   07:05:39.0</a></b><i class=\"ago\" id=\"ago2\">40min ago</i></td><td class=\"tabev1\">45.58 </td><td class=\"tabev2\">N  </td><td class=\"tabev1\">15.65 </td><td class=\"tabev2\">E  </td><td class=\"tabev3\">1</td><td class=\"tabev5\" id=\"magtyp2\">ML</td><td class=\"tabev2\">1.3</td><td class=\"tb_region\" id=\"reg2\"> CROATIA</td><td class=\"comment updatetimeno\" id=\"upd2\" style=\"text-align:right;\">2021-02-03 07:10</td></tr>,\n",
       " <tr class=\"ligne2 normal\" id=\"945297\" onclick=\"go_details(event,945297);\"><td class=\"tabev0\"></td><td class=\"tabev0\"></td><td class=\"tabev0\"></td><td class=\"tabev6\"><b><i style=\"display:none;\">earthquake</i><a href=\"/Earthquake/earthquake.php?id=945297\">2021-02-03   07:02:02.4</a></b><i class=\"ago\" id=\"ago3\">43min ago</i></td><td class=\"tabev1\">17.38 </td><td class=\"tabev2\">N  </td><td class=\"tabev1\">68.14 </td><td class=\"tabev2\">W  </td><td class=\"tabev3\">48</td><td class=\"tabev5\" id=\"magtyp3\">Md</td><td class=\"tabev2\">3.4</td><td class=\"tb_region\" id=\"reg3\"> DOMINICAN REPUBLIC REGION</td><td class=\"comment updatetimeno\" id=\"upd3\" style=\"text-align:right;\">2021-02-03 07:30</td></tr>,\n",
       " <tr class=\"ligne1 normal\" id=\"945290\" onclick=\"go_details(event,945290);\"><td class=\"tabev0\"></td><td class=\"tabev0\"></td><td class=\"tabev0\"></td><td class=\"tabev6\"><b><i style=\"display:none;\">earthquake</i><a href=\"/Earthquake/earthquake.php?id=945290\">2021-02-03   07:01:13.0</a></b><i class=\"ago\" id=\"ago4\">44min ago</i></td><td class=\"tabev1\">5.17 </td><td class=\"tabev2\">S  </td><td class=\"tabev1\">104.47 </td><td class=\"tabev2\">E  </td><td class=\"tabev3\">215</td><td class=\"tabev5\" id=\"magtyp4\"> M</td><td class=\"tabev2\">4.2</td><td class=\"tb_region\" id=\"reg4\"> SOUTHERN SUMATRA, INDONESIA</td><td class=\"comment updatetimeno\" id=\"upd4\" style=\"text-align:right;\">2021-02-03 07:10</td></tr>,\n",
       " <tr class=\"ligne2 normal\" id=\"945287\" onclick=\"go_details(event,945287);\"><td class=\"tabev0\"></td><td class=\"tabev0\"></td><td class=\"tabev0\"></td><td class=\"tabev6\"><b><i style=\"display:none;\">earthquake</i><a href=\"/Earthquake/earthquake.php?id=945287\">2021-02-03   06:47:06.3</a></b><i class=\"ago\" id=\"ago5\">58min ago</i></td><td class=\"tabev1\">38.76 </td><td class=\"tabev2\">N  </td><td class=\"tabev1\">141.77 </td><td class=\"tabev2\">E  </td><td class=\"tabev3\">67</td><td class=\"tabev5\" id=\"magtyp5\">mb</td><td class=\"tabev2\">4.2</td><td class=\"tb_region\" id=\"reg5\"> NEAR EAST COAST OF HONSHU, JAPAN</td><td class=\"comment updatetimeno\" id=\"upd5\" style=\"text-align:right;\">2021-02-03 07:09</td></tr>,\n",
       " <tr class=\"ligne1 normal\" id=\"945285\" onclick=\"go_details(event,945285);\"><td class=\"tabev0\"></td><td class=\"tabev0\"></td><td class=\"tabev0\"></td><td class=\"tabev6\"><b><i style=\"display:none;\">earthquake</i><a href=\"/Earthquake/earthquake.php?id=945285\">2021-02-03   06:42:16.8</a></b><i class=\"ago\" id=\"ago6\">1hr 03min ago</i></td><td class=\"tabev1\">19.21 </td><td class=\"tabev2\">N  </td><td class=\"tabev1\">155.42 </td><td class=\"tabev2\">W  </td><td class=\"tabev3\">35</td><td class=\"tabev5\" id=\"magtyp6\">Md</td><td class=\"tabev2\">2.1</td><td class=\"tb_region\" id=\"reg6\"> ISLAND OF HAWAII, HAWAII</td><td class=\"comment updatetimeno\" id=\"upd6\" style=\"text-align:right;\">2021-02-03 06:45</td></tr>,\n",
       " <tr class=\"ligne2 normal\" id=\"945282\" onclick=\"go_details(event,945282);\"><td class=\"tabev0\"></td><td class=\"tabev0\"></td><td class=\"tabev0\"></td><td class=\"tabev6\"><b><i style=\"display:none;\">earthquake</i><a href=\"/Earthquake/earthquake.php?id=945282\">2021-02-03   06:27:54.0</a></b><i class=\"ago\" id=\"ago7\">1hr 18min ago</i></td><td class=\"tabev1\">2.36 </td><td class=\"tabev2\">S  </td><td class=\"tabev1\">127.64 </td><td class=\"tabev2\">E  </td><td class=\"tabev3\">10</td><td class=\"tabev5\" id=\"magtyp7\"> M</td><td class=\"tabev2\">3.0</td><td class=\"tb_region\" id=\"reg7\"> CERAM SEA, INDONESIA</td><td class=\"comment updatetimeno\" id=\"upd7\" style=\"text-align:right;\">2021-02-03 06:35</td></tr>,\n",
       " <tr class=\"ligne1 normal\" id=\"945281\" onclick=\"go_details(event,945281);\"><td class=\"tabev0\"></td><td class=\"tabev0\"></td><td class=\"tabev0\"></td><td class=\"tabev6\"><b><i style=\"display:none;\">earthquake</i><a href=\"/Earthquake/earthquake.php?id=945281\">2021-02-03   06:23:38.1</a></b><i class=\"ago\" id=\"ago8\">1hr 22min ago</i></td><td class=\"tabev1\">19.22 </td><td class=\"tabev2\">N  </td><td class=\"tabev1\">155.42 </td><td class=\"tabev2\">W  </td><td class=\"tabev3\">35</td><td class=\"tabev5\" id=\"magtyp8\">Md</td><td class=\"tabev2\">2.0</td><td class=\"tb_region\" id=\"reg8\"> ISLAND OF HAWAII, HAWAII</td><td class=\"comment updatetimeno\" id=\"upd8\" style=\"text-align:right;\">2021-02-03 06:27</td></tr>,\n",
       " <tr class=\"ligne2 normal\" id=\"945286\" onclick=\"go_details(event,945286);\"><td class=\"tabev0\"></td><td class=\"tabev0\"></td><td class=\"tabev0\"></td><td class=\"tabev6\"><b><i style=\"display:none;\">earthquake</i><a href=\"/Earthquake/earthquake.php?id=945286\">2021-02-03   06:18:47.9</a></b><i class=\"ago\" id=\"ago9\">1hr 27min ago</i></td><td class=\"tabev1\">38.45 </td><td class=\"tabev2\">N  </td><td class=\"tabev1\">39.18 </td><td class=\"tabev2\">E  </td><td class=\"tabev3\">7</td><td class=\"tabev5\" id=\"magtyp9\">ML</td><td class=\"tabev2\">2.2</td><td class=\"tb_region\" id=\"reg9\"> EASTERN TURKEY</td><td class=\"comment updatetimeno\" id=\"upd9\" style=\"text-align:right;\">2021-02-03 06:46</td></tr>,\n",
       " <tr class=\"ligne1 normal\" id=\"945277\" onclick=\"go_details(event,945277);\"><td class=\"tabev0\"></td><td class=\"tabev0\"></td><td class=\"tabev0\"></td><td class=\"tabev6\"><b><i style=\"display:none;\">earthquake</i><a href=\"/Earthquake/earthquake.php?id=945277\">2021-02-03   06:05:36.1</a></b><i class=\"ago\" id=\"ago10\">1hr 40min ago</i></td><td class=\"tabev1\">19.49 </td><td class=\"tabev2\">N  </td><td class=\"tabev1\">155.58 </td><td class=\"tabev2\">W  </td><td class=\"tabev3\">-2</td><td class=\"tabev5\" id=\"magtyp10\">ML</td><td class=\"tabev2\">2.1</td><td class=\"tb_region\" id=\"reg10\"> ISLAND OF HAWAII, HAWAII</td><td class=\"comment updatetimeno\" id=\"upd10\" style=\"text-align:right;\">2021-02-03 06:11</td></tr>,\n",
       " <tr class=\"ligne2 normal\" id=\"945278\" onclick=\"go_details(event,945278);\"><td class=\"tabev0\"></td><td class=\"tabev0\"></td><td class=\"tabev0\"></td><td class=\"tabev6\"><b><i style=\"display:none;\">earthquake</i><a href=\"/Earthquake/earthquake.php?id=945278\">2021-02-03   06:04:27.0</a></b><i class=\"ago\" id=\"ago11\">1hr 41min ago</i></td><td class=\"tabev1\">0.05 </td><td class=\"tabev2\">S  </td><td class=\"tabev1\">124.73 </td><td class=\"tabev2\">E  </td><td class=\"tabev3\">29</td><td class=\"tabev5\" id=\"magtyp11\"> M</td><td class=\"tabev2\">4.0</td><td class=\"tb_region\" id=\"reg11\"> MOLUCCA SEA</td><td class=\"comment updatetimeno\" id=\"upd11\" style=\"text-align:right;\">2021-02-03 06:20</td></tr>,\n",
       " <tr class=\"ligne1 normal\" id=\"945288\" onclick=\"go_details(event,945288);\"><td class=\"tabev0\"></td><td class=\"tabev0\"></td><td class=\"tabev0\"><span class=\"intensity\" onclick=\"go_details(event,null,'https://www.emsc-csem.org/Earthquake/popup_intensmap.php?id=945288&amp;f=/FELTREPORTS/94/945288/IntensityMap.png');\" onmouseout=\"info_b2('notshow','');\" onmouseover=\"info_b2('show','See the &lt;b&gt; Intensity map&lt;/b&gt;');\" style=\"background-color:#FFFFFF;\">F</span></td><td class=\"tabev6\"><b><i style=\"display:none;\">earthquake</i><a href=\"/Earthquake/earthquake.php?id=945288\">2021-02-03   05:59:37.9</a></b><i class=\"ago\" id=\"ago12\">1hr 46min ago</i></td><td class=\"tabev1\">26.86 </td><td class=\"tabev2\">N  </td><td class=\"tabev1\">54.07 </td><td class=\"tabev2\">E  </td><td class=\"tabev3\">18</td><td class=\"tabev5\" id=\"magtyp12\">ML</td><td class=\"tabev2\">4.0</td><td class=\"tb_region\" id=\"reg12\"> SOUTHERN IRAN</td><td class=\"comment updatetimeno\" id=\"upd12\" style=\"text-align:right;\">2021-02-03 07:01</td></tr>,\n",
       " <tr class=\"ligne2 normal\" id=\"945270\" onclick=\"go_details(event,945270);\"><td class=\"tabev0\"></td><td class=\"tabev0\"></td><td class=\"tabev0\"></td><td class=\"tabev6\"><b><i style=\"display:none;\">earthquake</i><a href=\"/Earthquake/earthquake.php?id=945270\">2021-02-03   05:27:34.5</a></b><i class=\"ago\" id=\"ago13\">2hr 18min ago</i></td><td class=\"tabev1\">35.63 </td><td class=\"tabev2\">N  </td><td class=\"tabev1\">26.97 </td><td class=\"tabev2\">E  </td><td class=\"tabev3\">5</td><td class=\"tabev5\" id=\"magtyp13\">ML</td><td class=\"tabev2\">2.8</td><td class=\"tb_region\" id=\"reg13\"> CRETE, GREECE</td><td class=\"comment updatetimeno\" id=\"upd13\" style=\"text-align:right;\">2021-02-03 05:58</td></tr>,\n",
       " <tr class=\"ligne1 normal\" id=\"945271\" onclick=\"go_details(event,945271);\"><td class=\"tabev0\"></td><td class=\"tabev0\"></td><td class=\"tabev0\"></td><td class=\"tabev6\"><b><i style=\"display:none;\">earthquake</i><a href=\"/Earthquake/earthquake.php?id=945271\">2021-02-03   05:24:58.0</a></b><i class=\"ago\" id=\"ago14\">2hr 21min ago</i></td><td class=\"tabev1\">24.59 </td><td class=\"tabev2\">S  </td><td class=\"tabev1\">61.45 </td><td class=\"tabev2\">W  </td><td class=\"tabev3\">212</td><td class=\"tabev5\" id=\"magtyp14\"> M</td><td class=\"tabev2\">4.1</td><td class=\"tb_region\" id=\"reg14\"> FORMOSA, ARGENTINA</td><td class=\"comment updatetimeno\" id=\"upd14\" style=\"text-align:right;\">2021-02-03 05:30</td></tr>,\n",
       " <tr class=\"ligne2 info\" id=\"945272\" onclick=\"go_details(event,945272);\"><td class=\"tabev0\"></td><td class=\"tabev0\"></td><td class=\"tabev0\"></td><td class=\"tabev6\"><b><i style=\"display:none;\">earthquake</i><a href=\"/Earthquake/earthquake.php?id=945272\">2021-02-03   05:23:42.9</a></b><i class=\"ago\" id=\"ago15\">2hr 22min ago</i></td><td class=\"tabev1\">36.33 </td><td class=\"tabev2\">S  </td><td class=\"tabev1\">98.01 </td><td class=\"tabev2\">W  </td><td class=\"tabev3\">10</td><td class=\"tabev5\" id=\"magtyp15\">Mw</td><td class=\"tabev2\">6.7</td><td class=\"tb_region\" id=\"reg15\"> SOUTHEAST OF EASTER ISLAND</td><td class=\"comment updatetimeno\" id=\"upd15\" style=\"text-align:right;\">2021-02-03 07:09</td></tr>,\n",
       " <tr class=\"ligne1 normal\" id=\"945269\" onclick=\"go_details(event,945269);\"><td class=\"tabev0\"></td><td class=\"tabev0\"></td><td class=\"tabev0\"></td><td class=\"tabev6\"><b><i style=\"display:none;\">earthquake</i><a href=\"/Earthquake/earthquake.php?id=945269\">2021-02-03   05:23:34.6</a></b><i class=\"ago\" id=\"ago16\">2hr 22min ago</i></td><td class=\"tabev1\">37.76 </td><td class=\"tabev2\">N  </td><td class=\"tabev1\">15.00 </td><td class=\"tabev2\">E  </td><td class=\"tabev3\">1</td><td class=\"tabev5\" id=\"magtyp16\">ML</td><td class=\"tabev2\">2.1</td><td class=\"tb_region\" id=\"reg16\"> SICILY, ITALY</td><td class=\"comment updatetimeno\" id=\"upd16\" style=\"text-align:right;\">2021-02-03 05:29</td></tr>,\n",
       " <tr class=\"ligne2 normal\" id=\"945274\" onclick=\"go_details(event,945274);\"><td class=\"tabev0\"></td><td class=\"tabev0\"></td><td class=\"tabev0\"></td><td class=\"tabev6\"><b><i style=\"display:none;\">earthquake</i><a href=\"/Earthquake/earthquake.php?id=945274\">2021-02-03   05:17:46.2</a></b><i class=\"ago\" id=\"ago17\">2hr 28min ago</i></td><td class=\"tabev1\">36.33 </td><td class=\"tabev2\">N  </td><td class=\"tabev1\">119.75 </td><td class=\"tabev2\">W  </td><td class=\"tabev3\">30</td><td class=\"tabev5\" id=\"magtyp17\">Md</td><td class=\"tabev2\">2.4</td><td class=\"tb_region\" id=\"reg17\"> CENTRAL CALIFORNIA</td><td class=\"comment updatetimeno\" id=\"upd17\" style=\"text-align:right;\">2021-02-03 06:04</td></tr>,\n",
       " <tr class=\"ligne1 normal\" id=\"945268\" onclick=\"go_details(event,945268);\"><td class=\"tabev0\" style=\"text-align:center;\"><a href=\"https://www.emsc-csem.org/Earthquake/Testimonies/comments.php?id=945268\" onmouseout=\"info_b2('notshow','');\" onmouseover=\"info_b2('show','See the &lt;b&gt;16 testimonies&lt;/b&gt; for this earthquake');\"><span class=\"\" style=\"vertical-align:middle;\">16</span></a></td><td class=\"tabev0\"></td><td class=\"tabev0\"><span class=\"intensity\" onclick=\"go_details(event,null,'https://www.emsc-csem.org/Earthquake/popup_intensmap.php?id=945268&amp;f=/FELTREPORTS/94/945268/IntensityMap.png');\" onmouseout=\"info_b2('notshow','');\" onmouseover=\"info_b2('show','See the &lt;b&gt; Intensity map&lt;/b&gt;');\" style=\"background-color:#66CCFF;\">III</span></td><td class=\"tabev6\"><b><i style=\"display:none;\">earthquake</i><a href=\"/Earthquake/earthquake.php?id=945268\">2021-02-03   05:12:40.6</a></b><i class=\"ago\" id=\"ago18\">2hr 33min ago</i></td><td class=\"tabev1\">37.85 </td><td class=\"tabev2\">N  </td><td class=\"tabev1\">122.28 </td><td class=\"tabev2\">W  </td><td class=\"tabev3\">10</td><td class=\"tabev5\" id=\"magtyp18\">ML</td><td class=\"tabev2\">2.3</td><td class=\"tb_region\" id=\"reg18\"> SAN FRANCISCO BAY AREA, CALIF.</td><td class=\"comment updatetimeno\" id=\"upd18\" style=\"text-align:right;\">2021-02-03 07:03</td></tr>,\n",
       " <tr class=\"ligne2 normal\" id=\"945267\" onclick=\"go_details(event,945267);\"><td class=\"tabev0\"></td><td class=\"tabev0\"></td><td class=\"tabev0\"></td><td class=\"tabev6\"><b><i style=\"display:none;\">earthquake</i><a href=\"/Earthquake/earthquake.php?id=945267\">2021-02-03   04:50:25.0</a></b><i class=\"ago\" id=\"ago19\">2hr 55min ago</i></td><td class=\"tabev1\">18.65 </td><td class=\"tabev2\">S  </td><td class=\"tabev1\">70.79 </td><td class=\"tabev2\">W  </td><td class=\"tabev3\">27</td><td class=\"tabev5\" id=\"magtyp19\">ML</td><td class=\"tabev2\">3.0</td><td class=\"tb_region\" id=\"reg19\"> OFFSHORE TARAPACA, CHILE</td><td class=\"comment updatetimeno\" id=\"upd19\" style=\"text-align:right;\">2021-02-03 05:25</td></tr>,\n",
       " <tr class=\"ligne1 normal\" id=\"945264\" onclick=\"go_details(event,945264);\"><td class=\"tabev0\"></td><td class=\"tabev0\"></td><td class=\"tabev0\"></td><td class=\"tabev6\"><b><i style=\"display:none;\">earthquake</i><a href=\"/Earthquake/earthquake.php?id=945264\">2021-02-03   04:40:30.6</a></b><i class=\"ago\" id=\"ago20\">3hr 05min ago</i></td><td class=\"tabev1\">46.18 </td><td class=\"tabev2\">N  </td><td class=\"tabev1\">7.64 </td><td class=\"tabev2\">E  </td><td class=\"tabev3\">4</td><td class=\"tabev5\" id=\"magtyp20\">ML</td><td class=\"tabev2\">1.5</td><td class=\"tb_region\" id=\"reg20\"> SWITZERLAND</td><td class=\"comment updatetimeno\" id=\"upd20\" style=\"text-align:right;\">2021-02-03 04:44</td></tr>,\n",
       " <tr class=\"ligne2 normal\" id=\"945263\" onclick=\"go_details(event,945263);\"><td class=\"tabev0\"></td><td class=\"tabev0\"></td><td class=\"tabev0\"></td><td class=\"tabev6\"><b><i style=\"display:none;\">earthquake</i><a href=\"/Earthquake/earthquake.php?id=945263\">2021-02-03   04:37:41.0</a></b><i class=\"ago\" id=\"ago21\">3hr 08min ago</i></td><td class=\"tabev1\">36.64 </td><td class=\"tabev2\">N  </td><td class=\"tabev1\">121.25 </td><td class=\"tabev2\">W  </td><td class=\"tabev3\">5</td><td class=\"tabev5\" id=\"magtyp21\">Md</td><td class=\"tabev2\">2.6</td><td class=\"tb_region\" id=\"reg21\"> CENTRAL CALIFORNIA</td><td class=\"comment updatetimeno\" id=\"upd21\" style=\"text-align:right;\">2021-02-03 04:39</td></tr>,\n",
       " <tr class=\"ligne1 normal\" id=\"945265\" onclick=\"go_details(event,945265);\"><td class=\"tabev0\"></td><td class=\"tabev0\"></td><td class=\"tabev0\"></td><td class=\"tabev6\"><b><i style=\"display:none;\">earthquake</i><a href=\"/Earthquake/earthquake.php?id=945265\">2021-02-03   04:34:52.3</a></b><i class=\"ago\" id=\"ago22\">3hr 11min ago</i></td><td class=\"tabev1\">17.95 </td><td class=\"tabev2\">N  </td><td class=\"tabev1\">66.99 </td><td class=\"tabev2\">W  </td><td class=\"tabev3\">5</td><td class=\"tabev5\" id=\"magtyp22\">Md</td><td class=\"tabev2\">2.6</td><td class=\"tb_region\" id=\"reg22\"> PUERTO RICO REGION</td><td class=\"comment updatetimeno\" id=\"upd22\" style=\"text-align:right;\">2021-02-03 04:57</td></tr>,\n",
       " <tr class=\"ligne2 normal\" id=\"945261\" onclick=\"go_details(event,945261);\"><td class=\"tabev0\" style=\"text-align:center;\"><a href=\"https://www.emsc-csem.org/Earthquake/Testimonies/comments.php?id=945261\" onmouseout=\"info_b2('notshow','');\" onmouseover=\"info_b2('show','See the &lt;b&gt;14 testimonies&lt;/b&gt; for this earthquake');\"><span class=\"\" style=\"vertical-align:middle;\">14</span></a></td><td class=\"tabev0\"></td><td class=\"tabev0\"><span class=\"intensity\" onclick=\"go_details(event,null,'https://www.emsc-csem.org/Earthquake/popup_intensmap.php?id=945261&amp;f=/FELTREPORTS/94/945261/IntensityMap.png');\" onmouseout=\"info_b2('notshow','');\" onmouseover=\"info_b2('show','See the &lt;b&gt; Intensity map&lt;/b&gt;');\" style=\"background-color:#00FFFF;\">IV</span></td><td class=\"tabev6\"><b><i style=\"display:none;\">earthquake</i><a href=\"/Earthquake/earthquake.php?id=945261\">2021-02-03   04:20:34.6</a></b><i class=\"ago\" id=\"ago23\">3hr 25min ago</i></td><td class=\"tabev1\">51.39 </td><td class=\"tabev2\">N  </td><td class=\"tabev1\">100.24 </td><td class=\"tabev2\">E  </td><td class=\"tabev3\">5</td><td class=\"tabev5\" id=\"magtyp23\">mb</td><td class=\"tabev2\">4.4</td><td class=\"tb_region\" id=\"reg23\"> RUSSIA-MONGOLIA BORDER REGION</td><td class=\"comment updatetimeno\" id=\"upd23\" style=\"text-align:right;\">2021-02-03 05:55</td></tr>,\n",
       " <tr class=\"ligne1 normal\" id=\"945260\" onclick=\"go_details(event,945260);\"><td class=\"tabev0\"></td><td class=\"tabev0\"></td><td class=\"tabev0\"></td><td class=\"tabev6\"><b><i style=\"display:none;\">earthquake</i><a href=\"/Earthquake/earthquake.php?id=945260\">2021-02-03   04:05:42.8</a></b><i class=\"ago\" id=\"ago24\">3hr 40min ago</i></td><td class=\"tabev1\">32.50 </td><td class=\"tabev2\">N  </td><td class=\"tabev1\">115.61 </td><td class=\"tabev2\">W  </td><td class=\"tabev3\">4</td><td class=\"tabev5\" id=\"magtyp24\">Ml</td><td class=\"tabev2\">2.2</td><td class=\"tb_region\" id=\"reg24\"> BAJA CALIFORNIA, MEXICO</td><td class=\"comment updatetimeno\" id=\"upd24\" style=\"text-align:right;\">2021-02-03 04:09</td></tr>,\n",
       " <tr class=\"ligne2 normal\" id=\"945259\" onclick=\"go_details(event,945259);\"><td class=\"tabev0\"></td><td class=\"tabev0\"></td><td class=\"tabev0\"></td><td class=\"tabev6\"><b><i style=\"display:none;\">earthquake</i><a href=\"/Earthquake/earthquake.php?id=945259\">2021-02-03   03:58:41.3</a></b><i class=\"ago\" id=\"ago25\">3hr 47min ago</i></td><td class=\"tabev1\">31.68 </td><td class=\"tabev2\">S  </td><td class=\"tabev1\">179.49 </td><td class=\"tabev2\">E  </td><td class=\"tabev3\">490</td><td class=\"tabev5\" id=\"magtyp25\">M </td><td class=\"tabev2\">3.9</td><td class=\"tb_region\" id=\"reg25\"> KERMADEC ISLANDS REGION</td><td class=\"comment updatetimeno\" id=\"upd25\" style=\"text-align:right;\">2021-02-03 04:05</td></tr>,\n",
       " <tr class=\"ligne1 normal\" id=\"945266\" onclick=\"go_details(event,945266);\"><td class=\"tabev0\"></td><td class=\"tabev0\"></td><td class=\"tabev0\"></td><td class=\"tabev6\"><b><i style=\"display:none;\">earthquake</i><a href=\"/Earthquake/earthquake.php?id=945266\">2021-02-03   03:54:21.2</a></b><i class=\"ago\" id=\"ago26\">3hr 51min ago</i></td><td class=\"tabev1\">37.29 </td><td class=\"tabev2\">N  </td><td class=\"tabev1\">37.09 </td><td class=\"tabev2\">E  </td><td class=\"tabev3\">7</td><td class=\"tabev5\" id=\"magtyp26\">ML</td><td class=\"tabev2\">2.1</td><td class=\"tb_region\" id=\"reg26\"> CENTRAL TURKEY</td><td class=\"comment updatetimeno\" id=\"upd26\" style=\"text-align:right;\">2021-02-03 05:04</td></tr>,\n",
       " <tr class=\"ligne2 normal\" id=\"945258\" onclick=\"go_details(event,945258);\"><td class=\"tabev0\" style=\"text-align:center;\"><a href=\"https://www.emsc-csem.org/Earthquake/Testimonies/comments.php?id=945258\" onmouseout=\"info_b2('notshow','');\" onmouseover=\"info_b2('show','See the &lt;b&gt;testimony&lt;/b&gt; for this earthquake');\"><span class=\"\" style=\"vertical-align:middle;\">1</span></a></td><td class=\"tabev0\"></td><td class=\"tabev0\"><span class=\"intensity\" onclick=\"go_details(event,null,'https://www.emsc-csem.org/Earthquake/popup_intensmap.php?id=945258&amp;f=/FELTREPORTS/94/945258/IntensityMap.png');\" onmouseout=\"info_b2('notshow','');\" onmouseover=\"info_b2('show','See the &lt;b&gt; Intensity map&lt;/b&gt;');\" style=\"background-color:#FFFFFF;\">F</span></td><td class=\"tabev6\"><b><i style=\"display:none;\">earthquake</i><a href=\"/Earthquake/earthquake.php?id=945258\">2021-02-03   03:48:45.0</a></b><i class=\"ago\" id=\"ago27\">3hr 57min ago</i></td><td class=\"tabev1\">45.36 </td><td class=\"tabev2\">N  </td><td class=\"tabev1\">25.05 </td><td class=\"tabev2\">E  </td><td class=\"tabev3\">0</td><td class=\"tabev5\" id=\"magtyp27\">ML</td><td class=\"tabev2\">2.5</td><td class=\"tb_region\" id=\"reg27\"> ROMANIA</td><td class=\"comment updatetimeno\" id=\"upd27\" style=\"text-align:right;\">2021-02-03 04:41</td></tr>,\n",
       " <tr class=\"ligne1 normal\" id=\"945256\" onclick=\"go_details(event,945256);\"><td class=\"tabev0\"></td><td class=\"tabev0\"></td><td class=\"tabev0\"></td><td class=\"tabev6\"><b><i style=\"display:none;\">earthquake</i><a href=\"/Earthquake/earthquake.php?id=945256\">2021-02-03   03:36:04.0</a></b><i class=\"ago\" id=\"ago28\">4hr 09min ago</i></td><td class=\"tabev1\">13.72 </td><td class=\"tabev2\">N  </td><td class=\"tabev1\">120.54 </td><td class=\"tabev2\">E  </td><td class=\"tabev3\">85</td><td class=\"tabev5\" id=\"magtyp28\"> M</td><td class=\"tabev2\">3.5</td><td class=\"tb_region\" id=\"reg28\"> MINDORO, PHILIPPINES</td><td class=\"comment updatetimeno\" id=\"upd28\" style=\"text-align:right;\">2021-02-03 03:50</td></tr>,\n",
       " <tr class=\"ligne2 normal\" id=\"945250\" onclick=\"go_details(event,945250);\"><td class=\"tabev0\"></td><td class=\"tabev0\"></td><td class=\"tabev0\"></td><td class=\"tabev6\"><b><i style=\"display:none;\">earthquake</i><a href=\"/Earthquake/earthquake.php?id=945250\">2021-02-03   03:25:22.9</a></b><i class=\"ago\" id=\"ago29\">4hr 20min ago</i></td><td class=\"tabev1\">32.75 </td><td class=\"tabev2\">N  </td><td class=\"tabev1\">115.41 </td><td class=\"tabev2\">W  </td><td class=\"tabev3\">13</td><td class=\"tabev5\" id=\"magtyp29\">Ml</td><td class=\"tabev2\">2.0</td><td class=\"tb_region\" id=\"reg29\"> SOUTHERN CALIFORNIA</td><td class=\"comment updatetimeno\" id=\"upd29\" style=\"text-align:right;\">2021-02-03 03:27</td></tr>,\n",
       " <tr class=\"ligne1 normal\" id=\"945255\" onclick=\"go_details(event,945255);\"><td class=\"tabev0\"></td><td class=\"tabev0\"></td><td class=\"tabev0\"></td><td class=\"tabev6\"><b><i style=\"display:none;\">earthquake</i><a href=\"/Earthquake/earthquake.php?id=945255\">2021-02-03   03:24:50.0</a></b><i class=\"ago\" id=\"ago30\">4hr 21min ago</i></td><td class=\"tabev1\">19.52 </td><td class=\"tabev2\">S  </td><td class=\"tabev1\">69.42 </td><td class=\"tabev2\">W  </td><td class=\"tabev3\">89</td><td class=\"tabev5\" id=\"magtyp30\">ML</td><td class=\"tabev2\">3.1</td><td class=\"tb_region\" id=\"reg30\"> TARAPACA, CHILE</td><td class=\"comment updatetimeno\" id=\"upd30\" style=\"text-align:right;\">2021-02-03 03:39</td></tr>,\n",
       " <tr class=\"ligne2 normal\" id=\"945252\" onclick=\"go_details(event,945252);\"><td class=\"tabev0\"></td><td class=\"tabev0\"></td><td class=\"tabev0\"></td><td class=\"tabev6\"><b><i style=\"display:none;\">earthquake</i><a href=\"/Earthquake/earthquake.php?id=945252\">2021-02-03   03:20:41.7</a></b><i class=\"ago\" id=\"ago31\">4hr 25min ago</i></td><td class=\"tabev1\">39.23 </td><td class=\"tabev2\">N  </td><td class=\"tabev1\">114.92 </td><td class=\"tabev2\">W  </td><td class=\"tabev3\">1</td><td class=\"tabev5\" id=\"magtyp31\">ML</td><td class=\"tabev2\">2.5</td><td class=\"tb_region\" id=\"reg31\"> NEVADA</td><td class=\"comment updatetimeno\" id=\"upd31\" style=\"text-align:right;\">2021-02-03 04:41</td></tr>,\n",
       " <tr class=\"ligne1 normal\" id=\"945253\" onclick=\"go_details(event,945253);\"><td class=\"tabev0\"></td><td class=\"tabev0\"></td><td class=\"tabev0\"></td><td class=\"tabev6\"><b><i style=\"display:none;\">earthquake</i><a href=\"/Earthquake/earthquake.php?id=945253\">2021-02-03   03:11:53.0</a></b><i class=\"ago\" id=\"ago32\">4hr 34min ago</i></td><td class=\"tabev1\">15.40 </td><td class=\"tabev2\">N  </td><td class=\"tabev1\">96.84 </td><td class=\"tabev2\">W  </td><td class=\"tabev3\">17</td><td class=\"tabev5\" id=\"magtyp32\"> M</td><td class=\"tabev2\">4.0</td><td class=\"tb_region\" id=\"reg32\"> OFFSHORE OAXACA, MEXICO</td><td class=\"comment updatetimeno\" id=\"upd32\" style=\"text-align:right;\">2021-02-03 03:35</td></tr>,\n",
       " <tr class=\"ligne2 normal\" id=\"945243\" onclick=\"go_details(event,945243);\"><td class=\"tabev0\"></td><td class=\"tabev0\"></td><td class=\"tabev0\"></td><td class=\"tabev6\"><b><i style=\"display:none;\">earthquake</i><a href=\"/Earthquake/earthquake.php?id=945243\">2021-02-03   02:32:15.5</a></b><i class=\"ago\" id=\"ago33\">5hr 13min ago</i></td><td class=\"tabev1\">36.36 </td><td class=\"tabev2\">N  </td><td class=\"tabev1\">97.37 </td><td class=\"tabev2\">W  </td><td class=\"tabev3\">3</td><td class=\"tabev5\" id=\"magtyp33\">ML</td><td class=\"tabev2\">2.1</td><td class=\"tb_region\" id=\"reg33\"> OKLAHOMA</td><td class=\"comment updatetimeno\" id=\"upd33\" style=\"text-align:right;\">2021-02-03 02:36</td></tr>,\n",
       " <tr class=\"ligne1 normal\" id=\"945241\" onclick=\"go_details(event,945241);\"><td class=\"tabev0\"></td><td class=\"tabev0\"></td><td class=\"tabev0\"></td><td class=\"tabev6\"><b><i style=\"display:none;\">earthquake</i><a href=\"/Earthquake/earthquake.php?id=945241\">2021-02-03   02:27:39.6</a></b><i class=\"ago\" id=\"ago34\">5hr 18min ago</i></td><td class=\"tabev1\">36.36 </td><td class=\"tabev2\">N  </td><td class=\"tabev1\">97.36 </td><td class=\"tabev2\">W  </td><td class=\"tabev3\">3</td><td class=\"tabev5\" id=\"magtyp34\">mb</td><td class=\"tabev2\">3.0</td><td class=\"tb_region\" id=\"reg34\"> OKLAHOMA</td><td class=\"comment updatetimeno\" id=\"upd34\" style=\"text-align:right;\">2021-02-03 02:38</td></tr>,\n",
       " <tr class=\"ligne2 normal\" id=\"945245\" onclick=\"go_details(event,945245);\"><td class=\"tabev0\"></td><td class=\"tabev0\"></td><td class=\"tabev0\"></td><td class=\"tabev6\"><b><i style=\"display:none;\">earthquake</i><a href=\"/Earthquake/earthquake.php?id=945245\">2021-02-03   02:21:27.8</a></b><i class=\"ago\" id=\"ago35\">5hr 24min ago</i></td><td class=\"tabev1\">37.20 </td><td class=\"tabev2\">N  </td><td class=\"tabev1\">3.74 </td><td class=\"tabev2\">W  </td><td class=\"tabev3\">5</td><td class=\"tabev5\" id=\"magtyp35\">ML</td><td class=\"tabev2\">1.6</td><td class=\"tb_region\" id=\"reg35\"> SPAIN</td><td class=\"comment updatetimeno\" id=\"upd35\" style=\"text-align:right;\">2021-02-03 02:43</td></tr>,\n",
       " <tr class=\"ligne1 normal\" id=\"945275\" onclick=\"go_details(event,945275);\"><td class=\"tabev0\"></td><td class=\"tabev0\"></td><td class=\"tabev0\"></td><td class=\"tabev6\"><b><i style=\"display:none;\">earthquake</i><a href=\"/Earthquake/earthquake.php?id=945275\">2021-02-03   01:59:41.0</a></b><i class=\"ago\" id=\"ago36\">5hr 46min ago</i></td><td class=\"tabev1\">18.80 </td><td class=\"tabev2\">N  </td><td class=\"tabev1\">69.49 </td><td class=\"tabev2\">W  </td><td class=\"tabev3\">130</td><td class=\"tabev5\" id=\"magtyp36\"> M</td><td class=\"tabev2\">3.0</td><td class=\"tb_region\" id=\"reg36\"> DOMINICAN REPUBLIC</td><td class=\"comment updatetimeno\" id=\"upd36\" style=\"text-align:right;\">2021-02-03 06:05</td></tr>,\n",
       " <tr class=\"ligne2 normal\" id=\"945240\" onclick=\"go_details(event,945240);\"><td class=\"tabev0\"></td><td class=\"tabev0\"></td><td class=\"tabev0\"></td><td class=\"tabev6\"><b><i style=\"display:none;\">earthquake</i><a href=\"/Earthquake/earthquake.php?id=945240\">2021-02-03   01:44:32.9</a></b><i class=\"ago\" id=\"ago37\">6hr 01min ago</i></td><td class=\"tabev1\">22.76 </td><td class=\"tabev2\">S  </td><td class=\"tabev1\">171.86 </td><td class=\"tabev2\">E  </td><td class=\"tabev3\">10</td><td class=\"tabev5\" id=\"magtyp37\">Mw</td><td class=\"tabev2\">5.3</td><td class=\"tb_region\" id=\"reg37\"> SOUTHEAST OF LOYALTY ISLANDS</td><td class=\"comment updatetimeno\" id=\"upd37\" style=\"text-align:right;\">2021-02-03 05:11</td></tr>,\n",
       " <tr class=\"ligne1 normal\" id=\"945223\" onclick=\"go_details(event,945223);\"><td class=\"tabev0\"></td><td class=\"tabev0\"></td><td class=\"tabev0\"></td><td class=\"tabev6\"><b><i style=\"display:none;\">earthquake</i><a href=\"/Earthquake/earthquake.php?id=945223\">2021-02-03   01:41:16.5</a></b><i class=\"ago\" id=\"ago38\">6hr 04min ago</i></td><td class=\"tabev1\">37.22 </td><td class=\"tabev2\">N  </td><td class=\"tabev1\">3.71 </td><td class=\"tabev2\">W  </td><td class=\"tabev3\">6</td><td class=\"tabev5\" id=\"magtyp38\">ML</td><td class=\"tabev2\">1.5</td><td class=\"tb_region\" id=\"reg38\"> SPAIN</td><td class=\"comment updatetimeno\" id=\"upd38\" style=\"text-align:right;\">2021-02-03 01:54</td></tr>,\n",
       " <tr class=\"ligne2 normal\" id=\"945222\" onclick=\"go_details(event,945222);\"><td class=\"tabev0\"></td><td class=\"tabev0\"></td><td class=\"tabev0\"></td><td class=\"tabev6\"><b><i style=\"display:none;\">earthquake</i><a href=\"/Earthquake/earthquake.php?id=945222\">2021-02-03   01:40:39.5</a></b><i class=\"ago\" id=\"ago39\">6hr 05min ago</i></td><td class=\"tabev1\">31.13 </td><td class=\"tabev2\">S  </td><td class=\"tabev1\">179.35 </td><td class=\"tabev2\">E  </td><td class=\"tabev3\">730</td><td class=\"tabev5\" id=\"magtyp39\">M </td><td class=\"tabev2\">4.6</td><td class=\"tb_region\" id=\"reg39\"> KERMADEC ISLANDS REGION</td><td class=\"comment updatetimeno\" id=\"upd39\" style=\"text-align:right;\">2021-02-03 01:45</td></tr>,\n",
       " <tr class=\"ligne1 normal\" id=\"945224\" onclick=\"go_details(event,945224);\"><td class=\"tabev0\"></td><td class=\"tabev0\"></td><td class=\"tabev0\"></td><td class=\"tabev6\"><b><i style=\"display:none;\">earthquake</i><a href=\"/Earthquake/earthquake.php?id=945224\">2021-02-03   01:38:56.4</a></b><i class=\"ago\" id=\"ago40\">6hr 07min ago</i></td><td class=\"tabev1\">20.41 </td><td class=\"tabev2\">S  </td><td class=\"tabev1\">177.81 </td><td class=\"tabev2\">W  </td><td class=\"tabev3\">531</td><td class=\"tabev5\" id=\"magtyp40\">mb</td><td class=\"tabev2\">4.5</td><td class=\"tb_region\" id=\"reg40\"> FIJI REGION</td><td class=\"comment updatetimeno\" id=\"upd40\" style=\"text-align:right;\">2021-02-03 01:57</td></tr>,\n",
       " <tr class=\"ligne2 normal\" id=\"945221\" onclick=\"go_details(event,945221);\"><td class=\"tabev0\"></td><td class=\"tabev0\"></td><td class=\"tabev0\"></td><td class=\"tabev6\"><b><i style=\"display:none;\">earthquake</i><a href=\"/Earthquake/earthquake.php?id=945221\">2021-02-03   01:34:19.0</a></b><i class=\"ago\" id=\"ago41\">6hr 11min ago</i></td><td class=\"tabev1\">1.01 </td><td class=\"tabev2\">S  </td><td class=\"tabev1\">96.87 </td><td class=\"tabev2\">E  </td><td class=\"tabev3\">10</td><td class=\"tabev5\" id=\"magtyp41\"> M</td><td class=\"tabev2\">4.0</td><td class=\"tb_region\" id=\"reg41\"> SOUTHWEST OF SUMATRA, INDONESIA</td><td class=\"comment updatetimeno\" id=\"upd41\" style=\"text-align:right;\">2021-02-03 01:40</td></tr>,\n",
       " <tr class=\"ligne1 normal\" id=\"945215\" onclick=\"go_details(event,945215);\"><td class=\"tabev0\"></td><td class=\"tabev0\"></td><td class=\"tabev0\"></td><td class=\"tabev6\"><b><i style=\"display:none;\">earthquake</i><a href=\"/Earthquake/earthquake.php?id=945215\">2021-02-03   01:00:27.7</a></b><i class=\"ago\" id=\"ago42\">6hr 45min ago</i></td><td class=\"tabev1\">36.10 </td><td class=\"tabev2\">N  </td><td class=\"tabev1\">98.04 </td><td class=\"tabev2\">W  </td><td class=\"tabev3\">5</td><td class=\"tabev5\" id=\"magtyp42\">mb</td><td class=\"tabev2\">2.1</td><td class=\"tb_region\" id=\"reg42\"> OKLAHOMA</td><td class=\"comment updatetimeno\" id=\"upd42\" style=\"text-align:right;\">2021-02-03 01:29</td></tr>,\n",
       " <tr class=\"ligne2 normal\" id=\"945257\" onclick=\"go_details(event,945257);\"><td class=\"tabev0\"></td><td class=\"tabev0\"></td><td class=\"tabev0\"></td><td class=\"tabev6\"><b><i style=\"display:none;\">earthquake</i><a href=\"/Earthquake/earthquake.php?id=945257\">2021-02-03   00:57:24.2</a></b><i class=\"ago\" id=\"ago43\">6hr 48min ago</i></td><td class=\"tabev1\">39.01 </td><td class=\"tabev2\">N  </td><td class=\"tabev1\">41.75 </td><td class=\"tabev2\">E  </td><td class=\"tabev3\">7</td><td class=\"tabev5\" id=\"magtyp43\">ML</td><td class=\"tabev2\">2.0</td><td class=\"tb_region\" id=\"reg43\"> EASTERN TURKEY</td><td class=\"comment updatetimeno\" id=\"upd43\" style=\"text-align:right;\">2021-02-03 03:50</td></tr>,\n",
       " <tr class=\"ligne1 normal\" id=\"945213\" onclick=\"go_details(event,945213);\"><td class=\"tabev0\"></td><td class=\"tabev0\"></td><td class=\"tabev0\"></td><td class=\"tabev6\"><b><i style=\"display:none;\">earthquake</i><a href=\"/Earthquake/earthquake.php?id=945213\">2021-02-03   00:52:58.2</a></b><i class=\"ago\" id=\"ago44\">6hr 53min ago</i></td><td class=\"tabev1\">45.79 </td><td class=\"tabev2\">N  </td><td class=\"tabev1\">26.67 </td><td class=\"tabev2\">E  </td><td class=\"tabev3\">111</td><td class=\"tabev5\" id=\"magtyp44\">ML</td><td class=\"tabev2\">3.3</td><td class=\"tb_region\" id=\"reg44\"> ROMANIA</td><td class=\"comment updatetimeno\" id=\"upd44\" style=\"text-align:right;\">2021-02-03 01:41</td></tr>,\n",
       " <tr class=\"ligne2 bold\" id=\"945218\" onclick=\"go_details(event,945218);\"><td class=\"tabev0\"></td><td class=\"tabev0\"></td><td class=\"tabev0\"></td><td class=\"tabev6\"><b><i style=\"display:none;\">earthquake</i><a href=\"/Earthquake/earthquake.php?id=945218\">2021-02-03   00:51:35.6</a></b><i class=\"ago\" id=\"ago45\">6hr 54min ago</i></td><td class=\"tabev1\">22.70 </td><td class=\"tabev2\">S  </td><td class=\"tabev1\">171.93 </td><td class=\"tabev2\">E  </td><td class=\"tabev3\">8</td><td class=\"tabev5\" id=\"magtyp45\">Mw</td><td class=\"tabev2\">5.5</td><td class=\"tb_region\" id=\"reg45\"> SOUTHEAST OF LOYALTY ISLANDS</td><td class=\"comment updatetimeno\" id=\"upd45\" style=\"text-align:right;\">2021-02-03 07:36</td></tr>,\n",
       " <tr class=\"ligne1 normal\" id=\"945217\" onclick=\"go_details(event,945217);\"><td class=\"tabev0\"></td><td class=\"tabev0\"></td><td class=\"tabev0\"></td><td class=\"tabev6\"><b><i style=\"display:none;\">earthquake</i><a href=\"/Earthquake/earthquake.php?id=945217\">2021-02-03   00:49:44.3</a></b><i class=\"ago\" id=\"ago46\">6hr 56min ago</i></td><td class=\"tabev1\">22.85 </td><td class=\"tabev2\">S  </td><td class=\"tabev1\">171.88 </td><td class=\"tabev2\">E  </td><td class=\"tabev3\">10</td><td class=\"tabev5\" id=\"magtyp46\">mb</td><td class=\"tabev2\">5.0</td><td class=\"tb_region\" id=\"reg46\"> SOUTHEAST OF LOYALTY ISLANDS</td><td class=\"comment updatetimeno\" id=\"upd46\" style=\"text-align:right;\">2021-02-03 03:43</td></tr>,\n",
       " <tr class=\"ligne2 bold\" id=\"945214\" onclick=\"go_details(event,945214);\"><td class=\"tabev0\"></td><td class=\"tabev0\"></td><td class=\"tabev0\"></td><td class=\"tabev6\"><b><i style=\"display:none;\">earthquake</i><a href=\"/Earthquake/earthquake.php?id=945214\">2021-02-03   00:42:22.0</a></b><i class=\"ago\" id=\"ago47\">7hr 03min ago</i></td><td class=\"tabev1\">23.00 </td><td class=\"tabev2\">S  </td><td class=\"tabev1\">171.95 </td><td class=\"tabev2\">E  </td><td class=\"tabev3\">10</td><td class=\"tabev5\" id=\"magtyp47\">Mw</td><td class=\"tabev2\">5.6</td><td class=\"tb_region\" id=\"reg47\"> SOUTHEAST OF LOYALTY ISLANDS</td><td class=\"comment updatetimeno\" id=\"upd47\" style=\"text-align:right;\">2021-02-03 07:35</td></tr>,\n",
       " <tr class=\"ligne1 normal\" id=\"945212\" onclick=\"go_details(event,945212);\"><td class=\"tabev0\"></td><td class=\"tabev0\"></td><td class=\"tabev0\"></td><td class=\"tabev6\"><b><i style=\"display:none;\">earthquake</i><a href=\"/Earthquake/earthquake.php?id=945212\">2021-02-03   00:39:11.7</a></b><i class=\"ago\" id=\"ago48\">7hr 06min ago</i></td><td class=\"tabev1\">60.00 </td><td class=\"tabev2\">N  </td><td class=\"tabev1\">140.68 </td><td class=\"tabev2\">W  </td><td class=\"tabev3\">5</td><td class=\"tabev5\" id=\"magtyp48\">ML</td><td class=\"tabev2\">2.8</td><td class=\"tb_region\" id=\"reg48\"> SOUTHERN YUKON TERRITORY, CANADA</td><td class=\"comment updatetimeno\" id=\"upd48\" style=\"text-align:right;\">2021-02-03 00:47</td></tr>,\n",
       " <tr class=\"ligne2 normal\" id=\"945208\" onclick=\"go_details(event,945208);\"><td class=\"tabev0\"></td><td class=\"tabev0\"></td><td class=\"tabev0\"></td><td class=\"tabev6\"><b><i style=\"display:none;\">earthquake</i><a href=\"/Earthquake/earthquake.php?id=945208\">2021-02-03   00:30:14.0</a></b><i class=\"ago\" id=\"ago49\">7hr 15min ago</i></td><td class=\"tabev1\">11.95 </td><td class=\"tabev2\">N  </td><td class=\"tabev1\">86.84 </td><td class=\"tabev2\">W  </td><td class=\"tabev3\">59</td><td class=\"tabev5\" id=\"magtyp49\"> M</td><td class=\"tabev2\">4.2</td><td class=\"tb_region\" id=\"reg49\"> NEAR COAST OF NICARAGUA</td><td class=\"comment updatetimeno\" id=\"upd49\" style=\"text-align:right;\">2021-02-03 00:35</td></tr>,\n",
       " <tr><td colspan=\"13\" style=\"height:3px\"></td></tr>,\n",
       " <tr class=\"npages\" id=\"my_pagelist_1\"><td colspan=\"13\"><a class=\"sublink sublinka\" href=\"javascript:void()\" rel=\"nofollow\">1</a><a class=\"sublink\" href=\"/Earthquake/?view=2\">2</a><a class=\"sublink\" href=\"/Earthquake/?view=3\">3</a><a class=\"sublink\" href=\"/Earthquake/?view=4\">4</a><a class=\"sublink\" href=\"/Earthquake/?view=5\">5</a><a class=\"sublink\" href=\"/Earthquake/?view=6\">6</a><a class=\"sublink\" href=\"/Earthquake/?view=7\">7</a><a class=\"sublink\" href=\"/Earthquake/?view=8\">8</a><a class=\"sublink\" href=\"/Earthquake/?view=9\">9</a><a class=\"sublink\" href=\"/Earthquake/?view=10\">10</a><a alt=\"Next page\" class=\"sublink\" href=\"/Earthquake/?view=2\">›</a><a alt=\"Next 10 pages\" class=\"sublink\" href=\"/Earthquake/?view=11\">»</a></td></tr>,\n",
       " <tr><td colspan=\"13\" style=\"border-bottom:1px solid #000;\"></td></tr>]"
      ]
     },
     "execution_count": 65,
     "metadata": {},
     "output_type": "execute_result"
    }
   ],
   "source": [
    "# your code here\n",
    "earthquakes_raw = soup7.find_all(('tr', {'class': 'ligne1 normal'}))\n",
    "earthquakes_raw"
   ]
  },
  {
   "cell_type": "markdown",
   "metadata": {},
   "source": [
    "#### Count the number of tweets by a given Twitter account.\n",
    "Ask the user for the handle (@handle) of a twitter account. You will need to include a ***try/except block*** for account names not found. \n",
    "<br>***Hint:*** the program should count the number of tweets for any provided account."
   ]
  },
  {
   "cell_type": "code",
   "execution_count": null,
   "metadata": {},
   "outputs": [],
   "source": [
    "# This is the url you will scrape in this exercise \n",
    "# You will need to add the account credentials to this url\n",
    "url = 'https://twitter.com/'"
   ]
  },
  {
   "cell_type": "code",
   "execution_count": null,
   "metadata": {},
   "outputs": [],
   "source": [
    "# your code here"
   ]
  },
  {
   "cell_type": "markdown",
   "metadata": {},
   "source": [
    "#### Number of followers of a given twitter account\n",
    "Ask the user for the handle (@handle) of a twitter account. You will need to include a ***try/except block*** for account names not found. \n",
    "<br>***Hint:*** the program should count the followers for any provided account."
   ]
  },
  {
   "cell_type": "code",
   "execution_count": null,
   "metadata": {},
   "outputs": [],
   "source": [
    "# This is the url you will scrape in this exercise \n",
    "# You will need to add the account credentials to this url\n",
    "url = 'https://twitter.com/'"
   ]
  },
  {
   "cell_type": "code",
   "execution_count": null,
   "metadata": {},
   "outputs": [],
   "source": [
    "# your code here"
   ]
  },
  {
   "cell_type": "markdown",
   "metadata": {},
   "source": [
    "#### List all language names and number of related articles in the order they appear in wikipedia.org."
   ]
  },
  {
   "cell_type": "code",
   "execution_count": null,
   "metadata": {},
   "outputs": [],
   "source": [
    "# This is the url you will scrape in this exercise\n",
    "url = 'https://www.wikipedia.org/'"
   ]
  },
  {
   "cell_type": "code",
   "execution_count": null,
   "metadata": {},
   "outputs": [],
   "source": [
    "# your code here"
   ]
  },
  {
   "cell_type": "markdown",
   "metadata": {},
   "source": [
    "#### A list with the different kind of datasets available in data.gov.uk."
   ]
  },
  {
   "cell_type": "code",
   "execution_count": null,
   "metadata": {},
   "outputs": [],
   "source": [
    "# This is the url you will scrape in this exercise\n",
    "url = 'https://data.gov.uk/'"
   ]
  },
  {
   "cell_type": "code",
   "execution_count": null,
   "metadata": {},
   "outputs": [],
   "source": [
    "# your code here"
   ]
  },
  {
   "cell_type": "markdown",
   "metadata": {},
   "source": [
    "#### Display the top 10 languages by number of native speakers stored in a pandas dataframe."
   ]
  },
  {
   "cell_type": "code",
   "execution_count": null,
   "metadata": {},
   "outputs": [],
   "source": [
    "# This is the url you will scrape in this exercise\n",
    "url = 'https://en.wikipedia.org/wiki/List_of_languages_by_number_of_native_speakers'"
   ]
  },
  {
   "cell_type": "code",
   "execution_count": null,
   "metadata": {},
   "outputs": [],
   "source": [
    "# your code here"
   ]
  },
  {
   "cell_type": "markdown",
   "metadata": {},
   "source": [
    "## Bonus\n",
    "#### Scrape a certain number of tweets of a given Twitter account."
   ]
  },
  {
   "cell_type": "code",
   "execution_count": null,
   "metadata": {},
   "outputs": [],
   "source": [
    "# This is the url you will scrape in this exercise \n",
    "# You will need to add the account credentials to this url\n",
    "url = 'https://twitter.com/'"
   ]
  },
  {
   "cell_type": "code",
   "execution_count": null,
   "metadata": {},
   "outputs": [],
   "source": [
    "# your code here"
   ]
  },
  {
   "cell_type": "markdown",
   "metadata": {},
   "source": [
    "#### Display IMDB's top 250 data (movie name, initial release, director name and stars) as a pandas dataframe."
   ]
  },
  {
   "cell_type": "code",
   "execution_count": null,
   "metadata": {},
   "outputs": [],
   "source": [
    "# This is the url you will scrape in this exercise \n",
    "url = 'https://www.imdb.com/chart/top'"
   ]
  },
  {
   "cell_type": "code",
   "execution_count": null,
   "metadata": {},
   "outputs": [],
   "source": [
    "# your code here"
   ]
  },
  {
   "cell_type": "markdown",
   "metadata": {},
   "source": [
    "#### Display the movie name, year and a brief summary of the top 10 random movies (IMDB) as a pandas dataframe."
   ]
  },
  {
   "cell_type": "code",
   "execution_count": null,
   "metadata": {},
   "outputs": [],
   "source": [
    "#This is the url you will scrape in this exercise\n",
    "url = 'http://www.imdb.com/chart/top'"
   ]
  },
  {
   "cell_type": "code",
   "execution_count": null,
   "metadata": {},
   "outputs": [],
   "source": [
    "# your code here"
   ]
  },
  {
   "cell_type": "markdown",
   "metadata": {},
   "source": [
    "#### Find the live weather report (temperature, wind speed, description and weather) of a given city."
   ]
  },
  {
   "cell_type": "code",
   "execution_count": null,
   "metadata": {},
   "outputs": [],
   "source": [
    "#https://openweathermap.org/current\n",
    "city = input('Enter the city: ')\n",
    "url = 'http://api.openweathermap.org/data/2.5/weather?'+'q='+city+'&APPID=b35975e18dc93725acb092f7272cc6b8&units=metric'"
   ]
  },
  {
   "cell_type": "code",
   "execution_count": null,
   "metadata": {},
   "outputs": [],
   "source": [
    "# your code here"
   ]
  },
  {
   "cell_type": "markdown",
   "metadata": {},
   "source": [
    "#### Find the book name, price and stock availability as a pandas dataframe."
   ]
  },
  {
   "cell_type": "code",
   "execution_count": null,
   "metadata": {},
   "outputs": [],
   "source": [
    "# This is the url you will scrape in this exercise. \n",
    "# It is a fictional bookstore created to be scraped. \n",
    "url = 'http://books.toscrape.com/'"
   ]
  },
  {
   "cell_type": "code",
   "execution_count": null,
   "metadata": {},
   "outputs": [],
   "source": [
    "# your code here"
   ]
  }
 ],
 "metadata": {
  "kernelspec": {
   "display_name": "Python [conda env:ironhack_env]",
   "language": "python",
   "name": "conda-env-ironhack_env-py"
  },
  "language_info": {
   "codemirror_mode": {
    "name": "ipython",
    "version": 3
   },
   "file_extension": ".py",
   "mimetype": "text/x-python",
   "name": "python",
   "nbconvert_exporter": "python",
   "pygments_lexer": "ipython3",
   "version": "3.7.9"
  }
 },
 "nbformat": 4,
 "nbformat_minor": 4
}
