{
 "cells": [
  {
   "cell_type": "markdown",
   "metadata": {},
   "source": [
    "# Introduction to NumPy\n",
    "\n",
    "\n",
    "#### 1. Import NumPy under the name np."
   ]
  },
  {
   "cell_type": "code",
   "execution_count": 1,
   "metadata": {},
   "outputs": [],
   "source": [
    "import numpy as np"
   ]
  },
  {
   "cell_type": "markdown",
   "metadata": {},
   "source": [
    "#### 2. Print your NumPy version."
   ]
  },
  {
   "cell_type": "code",
   "execution_count": 2,
   "metadata": {},
   "outputs": [
    {
     "name": "stdout",
     "output_type": "stream",
     "text": [
      "1.19.2\n"
     ]
    }
   ],
   "source": [
    "print(np.__version__)"
   ]
  },
  {
   "cell_type": "markdown",
   "metadata": {},
   "source": [
    "#### 3. Generate a 2x3x5 3-dimensional array with random values. Assign the array to variable *a*.\n",
    "**Challenge**: there are at least three easy ways that use numpy to generate random arrays. How many ways can you find?"
   ]
  },
  {
   "cell_type": "code",
   "execution_count": 2,
   "metadata": {},
   "outputs": [],
   "source": [
    "# Method 1\n",
    "a = np.random.random((2,3,5))\n"
   ]
  },
  {
   "cell_type": "code",
   "execution_count": 27,
   "metadata": {},
   "outputs": [],
   "source": [
    "# Method 2\n",
    "a = np.random.randint(0,10,(2,3,5))\n"
   ]
  },
  {
   "cell_type": "code",
   "execution_count": 28,
   "metadata": {},
   "outputs": [],
   "source": [
    "# Method 3\n",
    "a = np.arange(30).reshape(2,3,5)\n"
   ]
  },
  {
   "cell_type": "markdown",
   "metadata": {},
   "source": [
    "#### 4. Print *a*.\n"
   ]
  },
  {
   "cell_type": "code",
   "execution_count": 3,
   "metadata": {},
   "outputs": [
    {
     "data": {
      "text/plain": [
       "array([[[0.62025438, 0.38426847, 0.48425697, 0.32585033, 0.42382299],\n",
       "        [0.19978918, 0.76943982, 0.95006201, 0.2726733 , 0.46126104],\n",
       "        [0.41539025, 0.80082151, 0.94178442, 0.70569232, 0.84408499]],\n",
       "\n",
       "       [[0.20949875, 0.37413678, 0.14076164, 0.3263583 , 0.78716418],\n",
       "        [0.20086834, 0.67631843, 0.37816781, 0.66339483, 0.39209705],\n",
       "        [0.91862957, 0.46466749, 0.08392952, 0.77127712, 0.4354043 ]]])"
      ]
     },
     "execution_count": 3,
     "metadata": {},
     "output_type": "execute_result"
    }
   ],
   "source": [
    "# your code here\n",
    "a"
   ]
  },
  {
   "cell_type": "markdown",
   "metadata": {},
   "source": [
    "#### 5. Create a 5x2x3 3-dimensional array with all values equaling 1. Assign the array to variable *b*."
   ]
  },
  {
   "cell_type": "code",
   "execution_count": 4,
   "metadata": {},
   "outputs": [],
   "source": [
    "# your code here\n",
    "b = np.ones((5,2,3))"
   ]
  },
  {
   "cell_type": "markdown",
   "metadata": {},
   "source": [
    "#### 6. Print *b*.\n"
   ]
  },
  {
   "cell_type": "code",
   "execution_count": 5,
   "metadata": {},
   "outputs": [
    {
     "data": {
      "text/plain": [
       "(5, 2, 3)"
      ]
     },
     "execution_count": 5,
     "metadata": {},
     "output_type": "execute_result"
    }
   ],
   "source": [
    "# your code here\n",
    "b\n",
    "b.shape"
   ]
  },
  {
   "cell_type": "markdown",
   "metadata": {},
   "source": [
    "#### 7. Do *a* and *b* have the same size? How do you prove that in Python code?"
   ]
  },
  {
   "cell_type": "code",
   "execution_count": 6,
   "metadata": {},
   "outputs": [
    {
     "data": {
      "text/plain": [
       "False"
      ]
     },
     "execution_count": 6,
     "metadata": {},
     "output_type": "execute_result"
    }
   ],
   "source": [
    "# your code here\n",
    "len(a) == len (b)"
   ]
  },
  {
   "cell_type": "markdown",
   "metadata": {},
   "source": [
    "#### 8. Are you able to add *a* and *b*? Why or why not?\n"
   ]
  },
  {
   "cell_type": "code",
   "execution_count": 11,
   "metadata": {},
   "outputs": [
    {
     "ename": "ValueError",
     "evalue": "operands could not be broadcast together with shapes (2,3,5) (5,2,3) ",
     "output_type": "error",
     "traceback": [
      "\u001b[0;31m---------------------------------------------------------------------------\u001b[0m",
      "\u001b[0;31mValueError\u001b[0m                                Traceback (most recent call last)",
      "\u001b[0;32m<ipython-input-11-e8b15f50904b>\u001b[0m in \u001b[0;36m<module>\u001b[0;34m()\u001b[0m\n\u001b[1;32m      1\u001b[0m \u001b[0;31m# your answer here\u001b[0m\u001b[0;34m\u001b[0m\u001b[0;34m\u001b[0m\u001b[0;34m\u001b[0m\u001b[0m\n\u001b[0;32m----> 2\u001b[0;31m \u001b[0ma\u001b[0m \u001b[0;34m+\u001b[0m \u001b[0mb\u001b[0m\u001b[0;34m\u001b[0m\u001b[0;34m\u001b[0m\u001b[0m\n\u001b[0m\u001b[1;32m      3\u001b[0m \u001b[0;31m# not possible because the shape of a (2x3x5) is not the same as the shape of b (5x2x3)\u001b[0m\u001b[0;34m\u001b[0m\u001b[0;34m\u001b[0m\u001b[0;34m\u001b[0m\u001b[0m\n",
      "\u001b[0;31mValueError\u001b[0m: operands could not be broadcast together with shapes (2,3,5) (5,2,3) "
     ]
    }
   ],
   "source": [
    "# your answer here\n",
    "a + b\n",
    "# not possible because the shape of a (2x3x5) is not the same as the shape of b (5x2x3)"
   ]
  },
  {
   "cell_type": "markdown",
   "metadata": {},
   "source": [
    "#### 9. Transpose *b* so that it has the same structure of *a* (i.e. become a 2x3x5 array). Assign the transposed array to variable *c*."
   ]
  },
  {
   "cell_type": "code",
   "execution_count": 7,
   "metadata": {},
   "outputs": [],
   "source": [
    "# your code here\n",
    "c = np.transpose(b, (1, 2, 0))\n"
   ]
  },
  {
   "cell_type": "markdown",
   "metadata": {},
   "source": [
    "#### 10. Try to add *a* and *c*. Now it should work. Assign the sum to variable *d*. But why does it work now?"
   ]
  },
  {
   "cell_type": "code",
   "execution_count": 8,
   "metadata": {},
   "outputs": [
    {
     "data": {
      "text/plain": [
       "array([[[1.62025438, 1.38426847, 1.48425697, 1.32585033, 1.42382299],\n",
       "        [1.19978918, 1.76943982, 1.95006201, 1.2726733 , 1.46126104],\n",
       "        [1.41539025, 1.80082151, 1.94178442, 1.70569232, 1.84408499]],\n",
       "\n",
       "       [[1.20949875, 1.37413678, 1.14076164, 1.3263583 , 1.78716418],\n",
       "        [1.20086834, 1.67631843, 1.37816781, 1.66339483, 1.39209705],\n",
       "        [1.91862957, 1.46466749, 1.08392952, 1.77127712, 1.4354043 ]]])"
      ]
     },
     "execution_count": 8,
     "metadata": {},
     "output_type": "execute_result"
    }
   ],
   "source": [
    "# your code/answer here\n",
    "d = a + c\n",
    "d"
   ]
  },
  {
   "cell_type": "markdown",
   "metadata": {},
   "source": [
    "#### 11. Print *a* and *d*. Notice the difference and relation of the two array in terms of the values? Explain."
   ]
  },
  {
   "cell_type": "code",
   "execution_count": 25,
   "metadata": {},
   "outputs": [
    {
     "name": "stdout",
     "output_type": "stream",
     "text": [
      "[[[0.78960807 0.77417352 0.23256333 0.06066375 0.06882591]\n",
      "  [0.9151851  0.41161189 0.88142283 0.31938687 0.82710285]\n",
      "  [0.31429126 0.1405836  0.28503983 0.33980355 0.94950369]]\n",
      "\n",
      " [[0.31699597 0.72975583 0.2870843  0.49859797 0.75561683]\n",
      "  [0.32988196 0.90167188 0.74101613 0.94860947 0.98280181]\n",
      "  [0.22805559 0.4939472  0.54649369 0.79813784 0.50193448]]]\n",
      "[[[1.78960807 1.77417352 1.23256333 1.06066375 1.06882591]\n",
      "  [1.9151851  1.41161189 1.88142283 1.31938687 1.82710285]\n",
      "  [1.31429126 1.1405836  1.28503983 1.33980355 1.94950369]]\n",
      "\n",
      " [[1.31699597 1.72975583 1.2870843  1.49859797 1.75561683]\n",
      "  [1.32988196 1.90167188 1.74101613 1.94860947 1.98280181]\n",
      "  [1.22805559 1.4939472  1.54649369 1.79813784 1.50193448]]]\n"
     ]
    }
   ],
   "source": [
    "# your code/answer here\n",
    "# d has values between 1 and 2 because a was between 0-1 and c was always =1 \n",
    "print(a)\n",
    "print(d)"
   ]
  },
  {
   "cell_type": "markdown",
   "metadata": {},
   "source": [
    "#### 12. Multiply *a* and *c*. Assign the result to *e*."
   ]
  },
  {
   "cell_type": "code",
   "execution_count": 26,
   "metadata": {},
   "outputs": [],
   "source": [
    "# your code here\n",
    "e = a * c"
   ]
  },
  {
   "cell_type": "markdown",
   "metadata": {},
   "source": [
    "#### 13. Does *e* equal to *a*? Why or why not?\n"
   ]
  },
  {
   "cell_type": "code",
   "execution_count": 17,
   "metadata": {},
   "outputs": [
    {
     "data": {
      "text/plain": [
       "True"
      ]
     },
     "execution_count": 17,
     "metadata": {},
     "output_type": "execute_result"
    }
   ],
   "source": [
    "# your code/answer here\n",
    "\n",
    "len(e) == len(a) #true\n",
    "\n",
    "# The resulting array has the same shape because each value in a \n",
    "# gets multiplied by the value in the same position in c"
   ]
  },
  {
   "cell_type": "markdown",
   "metadata": {},
   "source": [
    "#### 14. Identify the max, min, and mean values in *d*. Assign those values to variables *d_max*, *d_min* and *d_mean*."
   ]
  },
  {
   "cell_type": "code",
   "execution_count": 27,
   "metadata": {},
   "outputs": [
    {
     "name": "stdout",
     "output_type": "stream",
     "text": [
      "1.0839295173221248\n",
      "1.5140708693465366\n",
      "1.9500620058450044\n"
     ]
    }
   ],
   "source": [
    "# your code here\n",
    "d_max = np.amax(d)\n",
    "d_min = np.amin(d)\n",
    "d_mean = np.mean(d)\n",
    "\n",
    "print(d_min)\n",
    "print(d_mean)\n",
    "print(d_max)\n",
    "\n"
   ]
  },
  {
   "cell_type": "markdown",
   "metadata": {},
   "source": [
    "#### 15. Now we want to label the values in *d*. First create an empty array *f* with the same shape (i.e. 2x3x5) as *d* using `np.empty`.\n"
   ]
  },
  {
   "cell_type": "code",
   "execution_count": 18,
   "metadata": {},
   "outputs": [],
   "source": [
    "# your code here\n",
    "f = np.empty([2,3,5])\n"
   ]
  },
  {
   "cell_type": "markdown",
   "metadata": {},
   "source": [
    "#### 16. Populate the values in *f*. \n",
    "\n",
    "For each value in *d*, if it's larger than *d_min* but smaller than *d_mean*, assign 25 to the corresponding value in *f*. If a value in *d* is larger than *d_mean* but smaller than *d_max*, assign 75 to the corresponding value in *f*. If a value equals to *d_mean*, assign 50 to the corresponding value in *f*. Assign 0 to the corresponding value(s) in *f* for *d_min* in *d*. Assign 100 to the corresponding value(s) in *f* for *d_max* in *d*. In the end, f should have only the following values: 0, 25, 50, 75, and 100.\n",
    "\n",
    "**Note**: you don't have to use Numpy in this question."
   ]
  },
  {
   "cell_type": "code",
   "execution_count": 19,
   "metadata": {},
   "outputs": [
    {
     "data": {
      "text/plain": [
       "array([[[1.62025438, 1.38426847, 1.48425697, 1.32585033, 1.42382299],\n",
       "        [1.19978918, 1.76943982, 1.95006201, 1.2726733 , 1.46126104],\n",
       "        [1.41539025, 1.80082151, 1.94178442, 1.70569232, 1.84408499]],\n",
       "\n",
       "       [[1.20949875, 1.37413678, 1.14076164, 1.3263583 , 1.78716418],\n",
       "        [1.20086834, 1.67631843, 1.37816781, 1.66339483, 1.39209705],\n",
       "        [1.91862957, 1.46466749, 1.08392952, 1.77127712, 1.4354043 ]]])"
      ]
     },
     "execution_count": 19,
     "metadata": {},
     "output_type": "execute_result"
    }
   ],
   "source": [
    "arr = d\n",
    "arr"
   ]
  },
  {
   "cell_type": "code",
   "execution_count": 42,
   "metadata": {},
   "outputs": [
    {
     "data": {
      "text/plain": [
       "array([[[ 75.,  25.,  25.,  25.,  25.],\n",
       "        [ 25.,  75., 100.,  25.,  25.],\n",
       "        [ 25.,  75.,  75.,  75.,  75.]],\n",
       "\n",
       "       [[ 25.,  25.,  25.,  25.,  75.],\n",
       "        [ 25.,  75.,  25.,  75.,  25.],\n",
       "        [ 75.,  25.,   0.,  75.,  25.]]])"
      ]
     },
     "execution_count": 42,
     "metadata": {},
     "output_type": "execute_result"
    }
   ],
   "source": [
    "# your code here\n",
    "\n",
    "f[(arr <= d_min)] = 0\n",
    "f[(arr > d_min)&(arr < d_mean)] = 25\n",
    "f[arr == d_mean] = 50\n",
    "f[(arr > d_mean)&(arr < d_max)] = 75\n",
    "f[(arr >= d_max)] = 100\n",
    "\n",
    "f\n"
   ]
  },
  {
   "cell_type": "markdown",
   "metadata": {},
   "source": [
    "#### 17. Print *d* and *f*. Do you have your expected *f*?\n",
    "For instance, if your *d* is:\n",
    "```python\n",
    "[[[1.85836099, 1.67064465, 1.62576044, 1.40243961, 1.88454931],\n",
    "[1.75354326, 1.69403643, 1.36729252, 1.61415071, 1.12104981],\n",
    "[1.72201435, 1.1862918 , 1.87078449, 1.7726778 , 1.88180042]],\n",
    "[[1.44747908, 1.31673383, 1.02000951, 1.52218947, 1.97066381],\n",
    "[1.79129243, 1.74983003, 1.96028037, 1.85166831, 1.65450881],\n",
    "[1.18068344, 1.9587381 , 1.00656599, 1.93402165, 1.73514584]]]\n",
    "```\n",
    "Your *f* should be:\n",
    "```python\n",
    "[[[ 75.,  75.,  75.,  25.,  75.],\n",
    "[ 75.,  75.,  25.,  25.,  25.],\n",
    "[ 75.,  25.,  75.,  75.,  75.]],\n",
    "[[ 25.,  25.,  25.,  25., 100.],\n",
    "[ 75.,  75.,  75.,  75.,  75.],\n",
    "[ 25.,  75.,   0.,  75.,  75.]]]\n",
    "```"
   ]
  },
  {
   "cell_type": "code",
   "execution_count": 39,
   "metadata": {},
   "outputs": [
    {
     "name": "stdout",
     "output_type": "stream",
     "text": [
      "[[[1.62025438 1.38426847 1.48425697 1.32585033 1.42382299]\n",
      "  [1.19978918 1.76943982 1.95006201 1.2726733  1.46126104]\n",
      "  [1.41539025 1.80082151 1.94178442 1.70569232 1.84408499]]\n",
      "\n",
      " [[1.20949875 1.37413678 1.14076164 1.3263583  1.78716418]\n",
      "  [1.20086834 1.67631843 1.37816781 1.66339483 1.39209705]\n",
      "  [1.91862957 1.46466749 1.08392952 1.77127712 1.4354043 ]]]\n",
      " \n",
      "[[[ 75.  25.  25.  25.  25.]\n",
      "  [ 25.  75. 100.  25.  25.]\n",
      "  [ 25.  75.  75.  75.  75.]]\n",
      "\n",
      " [[ 25.  25.  25.  25.  75.]\n",
      "  [ 25.  75.  25.  75.  25.]\n",
      "  [ 75.  25.   0.  75.  25.]]]\n"
     ]
    }
   ],
   "source": [
    "# your code here\n",
    "\n",
    "print(arr)\n",
    "\n",
    "print(' ')\n",
    "\n",
    "print(f)"
   ]
  },
  {
   "cell_type": "markdown",
   "metadata": {},
   "source": [
    "#### 18. Bonus question: instead of using numbers (i.e. 0, 25, 50, 75, and 100), use string values  (\"A\", \"B\", \"C\", \"D\", and \"E\") to label the array elements. For the example above, the expected result is:\n",
    "\n",
    "```python\n",
    "[[[ 'D',  'D',  'D',  'B',  'D'],\n",
    "[ 'D',  'D',  'B',  'B',  'B'],\n",
    "[ 'D',  'B',  'D',  'D',  'D']],\n",
    "[[ 'B',  'B',  'B',  'B',  'E'],\n",
    "[ 'D',  'D',  'D',  'D',  'D'],\n",
    "[ 'B',  'D',   'A',  'D', 'D']]]\n",
    "```\n",
    "**Note**: you don't have to use Numpy in this question."
   ]
  },
  {
   "cell_type": "code",
   "execution_count": 56,
   "metadata": {},
   "outputs": [],
   "source": [
    "let = np.empty([2,3,5]).astype('object')"
   ]
  },
  {
   "cell_type": "code",
   "execution_count": 57,
   "metadata": {},
   "outputs": [
    {
     "data": {
      "text/plain": [
       "array([[['D', 'B', 'B', 'B', 'B'],\n",
       "        ['B', 'D', 'E', 'B', 'B'],\n",
       "        ['B', 'D', 'D', 'D', 'D']],\n",
       "\n",
       "       [['B', 'B', 'B', 'B', 'D'],\n",
       "        ['B', 'D', 'B', 'D', 'B'],\n",
       "        ['D', 'B', 'A', 'D', 'B']]], dtype=object)"
      ]
     },
     "execution_count": 57,
     "metadata": {},
     "output_type": "execute_result"
    }
   ],
   "source": [
    "# your code here\n",
    "\n",
    "\n",
    "let[(d <= d_min)] = \"A\"\n",
    "let[(d > d_min)&(d < d_mean)] = \"B\"\n",
    "let[d == d_mean] = \"C\"\n",
    "let[(d > d_mean)&(d < d_max)] = \"D\"\n",
    "let[(d >= d_max)] = \"E\"\n",
    "\n",
    "let"
   ]
  }
 ],
 "metadata": {
  "kernelspec": {
   "display_name": "Python 3",
   "language": "python",
   "name": "python3"
  },
  "language_info": {
   "codemirror_mode": {
    "name": "ipython",
    "version": 3
   },
   "file_extension": ".py",
   "mimetype": "text/x-python",
   "name": "python",
   "nbconvert_exporter": "python",
   "pygments_lexer": "ipython3",
   "version": "3.8.5"
  }
 },
 "nbformat": 4,
 "nbformat_minor": 4
}
